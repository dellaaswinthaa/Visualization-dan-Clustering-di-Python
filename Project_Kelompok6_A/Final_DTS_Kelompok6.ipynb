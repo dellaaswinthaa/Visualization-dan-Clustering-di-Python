{
 "cells": [
  {
   "cell_type": "markdown",
   "metadata": {
    "slideshow": {
     "slide_type": "slide"
    }
   },
   "source": [
    "## Final Project \n",
    "“Visualization dan Clustering di Python : World Happiness Report”"
   ]
  },
  {
   "cell_type": "markdown",
   "metadata": {
    "slideshow": {
     "slide_type": "fragment"
    }
   },
   "source": [
    "__Kelompok 6__\n",
    "1. Aam Shodiqul M\n",
    "2. Daniel Yanuarius W\n",
    "3. Della Aswintha A\n",
    "4. Desain Unggul P"
   ]
  },
  {
   "cell_type": "markdown",
   "metadata": {
    "slideshow": {
     "slide_type": "subslide"
    }
   },
   "source": [
    "### Daftar Isi\n",
    "1. Pendahuluan\n",
    "2. Sumber data\n",
    "3. Metode Pengumpulan & Analisa data\n",
    "4. Output\n",
    "5. Kesimpulan dan saran"
   ]
  },
  {
   "cell_type": "markdown",
   "metadata": {
    "slideshow": {
     "slide_type": "slide"
    }
   },
   "source": [
    "### Latar Belakang <span style=\"float: right; font-size: 0.5em\"><a href=\"#Final-Project\">Top</a></span>"
   ]
  },
  {
   "cell_type": "code",
   "execution_count": null,
   "metadata": {},
   "outputs": [],
   "source": []
  }
 ],
 "metadata": {
  "celltoolbar": "Slideshow",
  "kernelspec": {
   "display_name": "Python 3",
   "language": "python",
   "name": "python3"
  },
  "language_info": {
   "codemirror_mode": {
    "name": "ipython",
    "version": 3
   },
   "file_extension": ".py",
   "mimetype": "text/x-python",
   "name": "python",
   "nbconvert_exporter": "python",
   "pygments_lexer": "ipython3",
   "version": "3.7.3"
  }
 },
 "nbformat": 4,
 "nbformat_minor": 2
}
