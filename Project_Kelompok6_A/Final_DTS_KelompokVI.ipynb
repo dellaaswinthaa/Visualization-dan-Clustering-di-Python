{
 "cells": [
  {
   "cell_type": "markdown",
   "metadata": {
    "extensions": {
     "jupyter_dashboards": {
      "version": 1,
      "views": {
       "grid_default": {},
       "report_default": {
        "hidden": false
       }
      }
     }
    },
    "slideshow": {
     "slide_type": "slide"
    }
   },
   "source": [
    "## Final Project \n",
    "“Visualization dan Clustering di Python : World Happiness Report”\n"
   ]
  },
  {
   "cell_type": "markdown",
   "metadata": {
    "extensions": {
     "jupyter_dashboards": {
      "version": 1,
      "views": {
       "grid_default": {},
       "report_default": {
        "hidden": false
       }
      }
     }
    },
    "slideshow": {
     "slide_type": "-"
    }
   },
   "source": [
    "__Kelompok 6__\n",
    "1. Aam Shodiqul M\n",
    "2. Daniel Yanuarius W\n",
    "3. Della Aswintha A\n",
    "4. Desain Unggul P"
   ]
  },
  {
   "cell_type": "markdown",
   "metadata": {
    "extensions": {
     "jupyter_dashboards": {
      "version": 1,
      "views": {
       "grid_default": {},
       "report_default": {
        "hidden": false
       }
      }
     }
    },
    "slideshow": {
     "slide_type": "subslide"
    }
   },
   "source": [
    "### Daftar Isi\n",
    "1. Latar Belakang, Tujuan & Manfaat\n",
    "2. Sumber data\n",
    "3. Metode Pengumpulan & Analisa data\n",
    "4. Output\n",
    "5. Kesimpulan dan saran"
   ]
  },
  {
   "cell_type": "markdown",
   "metadata": {
    "extensions": {
     "jupyter_dashboards": {
      "version": 1,
      "views": {
       "grid_default": {},
       "report_default": {
        "hidden": false
       }
      }
     }
    },
    "slideshow": {
     "slide_type": "slide"
    }
   },
   "source": [
    "### Latar Belakang"
   ]
  },
  {
   "cell_type": "markdown",
   "metadata": {
    "extensions": {
     "jupyter_dashboards": {
      "version": 1,
      "views": {
       "grid_default": {},
       "report_default": {
        "hidden": false
       }
      }
     }
    },
    "slideshow": {
     "slide_type": "fragment"
    }
   },
   "source": [
    "World Happiness report diukur berdasarkan banyak faktor- faktor seperti tingkat harapan hidup, pendapatan per kapita, kebebasan hidup dan sebagainya\n",
    "Kondisi eksternal juga diukur seperti tingkat pendapatan, kesehatan, kesempatan kerja, perhatian sosial seperti menyumbang (generosity) dan tatakelola negara."
   ]
  },
  {
   "cell_type": "markdown",
   "metadata": {
    "extensions": {
     "jupyter_dashboards": {
      "version": 1,
      "views": {
       "grid_default": {},
       "report_default": {
        "hidden": false
       }
      }
     }
    },
    "slideshow": {
     "slide_type": "subslide"
    }
   },
   "source": [
    "## Tujuan & Manfaat\n",
    "Tujuan\n",
    "- Project ini bertujuan untuk visualiasi dan clustering data \"*World Happiness Report*\" menggunakan beberapa metode yaitu, K-Means, *Agglomerative*, *Affinity* dan *Guassian Mixture Model* (GMM) berdasarkan dengan beberapa faktor seperti GDP per kapita, *life expectancy*, *corruption* serta faktor lainnya sehingga mengetahui hasil analisa visualisasi dari masing-masing metode\n",
    "\n",
    "Manfaat\n",
    "- Mengetahui dan memetakan negara-negara bahagia dan kurang bahagia menggunakan score-score yang ada pada data berdasarkan algoritma clustering K-Means, *Agglomerative*, *Affinity* dan *Guassian Mixture Model* (GMM)"
   ]
  },
  {
   "cell_type": "markdown",
   "metadata": {
    "extensions": {
     "jupyter_dashboards": {
      "version": 1,
      "views": {
       "grid_default": {},
       "report_default": {
        "hidden": false
       }
      }
     }
    },
    "slideshow": {
     "slide_type": "slide"
    }
   },
   "source": [
    "## Sumber Data \n",
    "Datasources : \"*World Happiness Report.csv*\" yang diperoleh dari worldhappiness.report/ed/"
   ]
  },
  {
   "cell_type": "markdown",
   "metadata": {
    "extensions": {
     "jupyter_dashboards": {
      "version": 1,
      "views": {
       "grid_default": {},
       "report_default": {
        "hidden": false
       }
      }
     }
    },
    "slideshow": {
     "slide_type": "subslide"
    }
   },
   "source": [
    "## Metode Pengumpulan Data\n",
    "\n",
    "Data sekunder adalah data yang mengacu pada informasi yang dikumpulkan dari sumber yang telah ada. Sumber data sekunder adalah catatan atau dokumentasi perusahaan, publikasi pemerintah, analisis industri oleh media, situs Web, internet dan seterusnya (Uma Sekaran, 2011)."
   ]
  },
  {
   "cell_type": "markdown",
   "metadata": {
    "extensions": {
     "jupyter_dashboards": {
      "version": 1,
      "views": {
       "grid_default": {},
       "report_default": {
        "hidden": false
       }
      }
     }
    },
    "slideshow": {
     "slide_type": "subslide"
    }
   },
   "source": [
    "## Analisa Data\n",
    "\n",
    "Data akan diolah menggunakan 4 metode clustering yaitu K-Means, Agglomerative, Guassian Mixture Model dan Affinity Propagation. Metode K-means yaitu salah satu metode clustering non hirarki yang berusaha mempartisi data yang ada ke dalam bentuk satu atau lebih cluster. Selain itu, metode Agglomerative yaitu suatu metode *hierarchical clustering* yang bersifat *bottom-up*, yang menggabungkan n buah klaster menjadi satu klaster tunggal. Metode GMM dapat digunakan untuk cluster data tanpa label dalam banyak cara yang sama seperti K-means. Terakhir, metode *Affinity Propagation* mengansumsikan semua titik data sebagai pusat cluster dan tidak tergantung pada kualitas set awal pusat cluster."
   ]
  },
  {
   "cell_type": "markdown",
   "metadata": {
    "extensions": {
     "jupyter_dashboards": {
      "version": 1,
      "views": {
       "grid_default": {},
       "report_default": {
        "hidden": false
       }
      }
     }
    },
    "slideshow": {
     "slide_type": "slide"
    }
   },
   "source": [
    "## Visualisasi dan Clustering Data\n",
    "Metode K-Means, *Agglomerative*, *Affinity* dan *Guassian Mixture Model* (GMM)"
   ]
  },
  {
   "cell_type": "code",
   "execution_count": 1,
   "metadata": {
    "extensions": {
     "jupyter_dashboards": {
      "version": 1,
      "views": {
       "grid_default": {},
       "report_default": {
        "hidden": false
       }
      }
     }
    },
    "slideshow": {
     "slide_type": "fragment"
    }
   },
   "outputs": [
    {
     "data": {
      "text/html": [
       "        <script type=\"text/javascript\">\n",
       "        window.PlotlyConfig = {MathJaxConfig: 'local'};\n",
       "        if (window.MathJax) {MathJax.Hub.Config({SVG: {font: \"STIX-Web\"}});}\n",
       "        if (typeof require !== 'undefined') {\n",
       "        require.undef(\"plotly\");\n",
       "        requirejs.config({\n",
       "            paths: {\n",
       "                'plotly': ['https://cdn.plot.ly/plotly-latest.min']\n",
       "            }\n",
       "        });\n",
       "        require(['plotly'], function(Plotly) {\n",
       "            window._Plotly = Plotly;\n",
       "        });\n",
       "        }\n",
       "        </script>\n",
       "        "
      ]
     },
     "metadata": {},
     "output_type": "display_data"
    }
   ],
   "source": [
    "import time                   \n",
    "import warnings               \n",
    "\n",
    "import numpy as np            # manipulasi angka data\n",
    "import pandas as pd           # Dataframe ngulik \n",
    "import matplotlib.pyplot as plt # Buat ngeplot\n",
    "import seaborn as sns\n",
    "import plotly.plotly as py  # World Map\n",
    "import plotly.graph_objs as go \n",
    "from plotly.offline import download_plotlyjs, init_notebook_mode, plot, iplot\n",
    "init_notebook_mode(connected=True)\n",
    "\n",
    "from sklearn.preprocessing import StandardScaler  #  skala dataset & normalisasi\n",
    "from sklearn.cluster import KMeans, AgglomerativeClustering, AffinityPropagation #buat import algo clustering\n",
    "from sklearn.mixture import GaussianMixture #buat import algo GMM clustering\n",
    "\n",
    "import os                     \n",
    "import sys                    \n"
   ]
  },
  {
   "cell_type": "markdown",
   "metadata": {
    "extensions": {
     "jupyter_dashboards": {
      "version": 1,
      "views": {
       "grid_default": {},
       "report_default": {
        "hidden": false
       }
      }
     }
    },
    "slideshow": {
     "slide_type": "slide"
    }
   },
   "source": [
    "## Read Data"
   ]
  },
  {
   "cell_type": "code",
   "execution_count": 2,
   "metadata": {
    "extensions": {
     "jupyter_dashboards": {
      "version": 1,
      "views": {
       "grid_default": {},
       "report_default": {
        "hidden": false
       }
      }
     }
    },
    "slideshow": {
     "slide_type": "-"
    }
   },
   "outputs": [
    {
     "data": {
      "text/html": [
       "<div>\n",
       "<style scoped>\n",
       "    .dataframe tbody tr th:only-of-type {\n",
       "        vertical-align: middle;\n",
       "    }\n",
       "\n",
       "    .dataframe tbody tr th {\n",
       "        vertical-align: top;\n",
       "    }\n",
       "\n",
       "    .dataframe thead th {\n",
       "        text-align: right;\n",
       "    }\n",
       "</style>\n",
       "<table border=\"1\" class=\"dataframe\">\n",
       "  <thead>\n",
       "    <tr style=\"text-align: right;\">\n",
       "      <th></th>\n",
       "      <th>Country</th>\n",
       "      <th>Happiness.Rank</th>\n",
       "      <th>Happiness.Score</th>\n",
       "      <th>Whisker.high</th>\n",
       "      <th>Whisker.low</th>\n",
       "      <th>Economy..GDP.per.Capita.</th>\n",
       "      <th>Family</th>\n",
       "      <th>Health..Life.Expectancy.</th>\n",
       "      <th>Freedom</th>\n",
       "      <th>Generosity</th>\n",
       "      <th>Trust..Government.Corruption.</th>\n",
       "      <th>Dystopia.Residual</th>\n",
       "    </tr>\n",
       "  </thead>\n",
       "  <tbody>\n",
       "    <tr>\n",
       "      <th>0</th>\n",
       "      <td>Norway</td>\n",
       "      <td>1</td>\n",
       "      <td>7.537</td>\n",
       "      <td>7.594445</td>\n",
       "      <td>7.479556</td>\n",
       "      <td>1.616463</td>\n",
       "      <td>1.533524</td>\n",
       "      <td>0.796667</td>\n",
       "      <td>0.635423</td>\n",
       "      <td>0.362012</td>\n",
       "      <td>0.315964</td>\n",
       "      <td>2.277027</td>\n",
       "    </tr>\n",
       "    <tr>\n",
       "      <th>1</th>\n",
       "      <td>Denmark</td>\n",
       "      <td>2</td>\n",
       "      <td>7.522</td>\n",
       "      <td>7.581728</td>\n",
       "      <td>7.462272</td>\n",
       "      <td>1.482383</td>\n",
       "      <td>1.551122</td>\n",
       "      <td>0.792566</td>\n",
       "      <td>0.626007</td>\n",
       "      <td>0.355280</td>\n",
       "      <td>0.400770</td>\n",
       "      <td>2.313707</td>\n",
       "    </tr>\n",
       "    <tr>\n",
       "      <th>2</th>\n",
       "      <td>Iceland</td>\n",
       "      <td>3</td>\n",
       "      <td>7.504</td>\n",
       "      <td>7.622030</td>\n",
       "      <td>7.385970</td>\n",
       "      <td>1.480633</td>\n",
       "      <td>1.610574</td>\n",
       "      <td>0.833552</td>\n",
       "      <td>0.627163</td>\n",
       "      <td>0.475540</td>\n",
       "      <td>0.153527</td>\n",
       "      <td>2.322715</td>\n",
       "    </tr>\n",
       "    <tr>\n",
       "      <th>3</th>\n",
       "      <td>Switzerland</td>\n",
       "      <td>4</td>\n",
       "      <td>7.494</td>\n",
       "      <td>7.561772</td>\n",
       "      <td>7.426227</td>\n",
       "      <td>1.564980</td>\n",
       "      <td>1.516912</td>\n",
       "      <td>0.858131</td>\n",
       "      <td>0.620071</td>\n",
       "      <td>0.290549</td>\n",
       "      <td>0.367007</td>\n",
       "      <td>2.276716</td>\n",
       "    </tr>\n",
       "    <tr>\n",
       "      <th>4</th>\n",
       "      <td>Finland</td>\n",
       "      <td>5</td>\n",
       "      <td>7.469</td>\n",
       "      <td>7.527542</td>\n",
       "      <td>7.410458</td>\n",
       "      <td>1.443572</td>\n",
       "      <td>1.540247</td>\n",
       "      <td>0.809158</td>\n",
       "      <td>0.617951</td>\n",
       "      <td>0.245483</td>\n",
       "      <td>0.382612</td>\n",
       "      <td>2.430182</td>\n",
       "    </tr>\n",
       "  </tbody>\n",
       "</table>\n",
       "</div>"
      ],
      "text/plain": [
       "       Country  Happiness.Rank  Happiness.Score  Whisker.high  Whisker.low  \\\n",
       "0       Norway               1            7.537      7.594445     7.479556   \n",
       "1      Denmark               2            7.522      7.581728     7.462272   \n",
       "2      Iceland               3            7.504      7.622030     7.385970   \n",
       "3  Switzerland               4            7.494      7.561772     7.426227   \n",
       "4      Finland               5            7.469      7.527542     7.410458   \n",
       "\n",
       "   Economy..GDP.per.Capita.    Family  Health..Life.Expectancy.   Freedom  \\\n",
       "0                  1.616463  1.533524                  0.796667  0.635423   \n",
       "1                  1.482383  1.551122                  0.792566  0.626007   \n",
       "2                  1.480633  1.610574                  0.833552  0.627163   \n",
       "3                  1.564980  1.516912                  0.858131  0.620071   \n",
       "4                  1.443572  1.540247                  0.809158  0.617951   \n",
       "\n",
       "   Generosity  Trust..Government.Corruption.  Dystopia.Residual  \n",
       "0    0.362012                       0.315964           2.277027  \n",
       "1    0.355280                       0.400770           2.313707  \n",
       "2    0.475540                       0.153527           2.322715  \n",
       "3    0.290549                       0.367007           2.276716  \n",
       "4    0.245483                       0.382612           2.430182  "
      ]
     },
     "execution_count": 2,
     "metadata": {},
     "output_type": "execute_result"
    }
   ],
   "source": [
    "wh = pd.read_csv(\"D://DTS/2017.csv\") #buat make dataset (ubah ke windows)\n",
    "wh.head() #buat ngeliat dataset cuilan"
   ]
  },
  {
   "cell_type": "code",
   "execution_count": 3,
   "metadata": {
    "extensions": {
     "jupyter_dashboards": {
      "version": 1,
      "views": {
       "grid_default": {},
       "report_default": {
        "hidden": false
       }
      }
     }
    },
    "slideshow": {
     "slide_type": "subslide"
    }
   },
   "outputs": [
    {
     "name": "stdout",
     "output_type": "stream",
     "text": [
      "Dimension of dataset: wh.shape\n"
     ]
    },
    {
     "data": {
      "text/plain": [
       "Country                           object\n",
       "Happiness.Rank                     int64\n",
       "Happiness.Score                  float64\n",
       "Whisker.high                     float64\n",
       "Whisker.low                      float64\n",
       "Economy..GDP.per.Capita.         float64\n",
       "Family                           float64\n",
       "Health..Life.Expectancy.         float64\n",
       "Freedom                          float64\n",
       "Generosity                       float64\n",
       "Trust..Government.Corruption.    float64\n",
       "Dystopia.Residual                float64\n",
       "dtype: object"
      ]
     },
     "execution_count": 3,
     "metadata": {},
     "output_type": "execute_result"
    }
   ],
   "source": [
    "print(\"Dimension of dataset: wh.shape\")\n",
    "wh.dtypes #ngeliatkan tipe2 datanya"
   ]
  },
  {
   "cell_type": "markdown",
   "metadata": {
    "extensions": {
     "jupyter_dashboards": {
      "version": 1,
      "views": {
       "grid_default": {},
       "report_default": {
        "hidden": false
       }
      }
     }
    },
    "slideshow": {
     "slide_type": "slide"
    }
   },
   "source": [
    "#### Korelasi antara variables\n",
    "Pada bagian ini untuk mengetahui hubungan atau korelasi antara variabel menggunakan *correlation matrix* yang divisualisasi dengan heatmap"
   ]
  },
  {
   "cell_type": "code",
   "execution_count": 4,
   "metadata": {
    "extensions": {
     "jupyter_dashboards": {
      "version": 1,
      "views": {
       "grid_default": {},
       "report_default": {
        "hidden": true
       }
      }
     }
    },
    "slideshow": {
     "slide_type": "skip"
    }
   },
   "outputs": [],
   "source": [
    "#wh1 = wh[['Happiness.Score','Economy..GDP.per.Capita.','Family','Health..Life.Expectancy.', 'Freedom', \n",
    "#          'Generosity','Trust..Government.Corruption.','Dystopia.Residual']] #buat make kolom-kolom yang penting\n",
    "#cor = wh1.corr() #itung korelasinya atau hubungan antar data pake correlation matrix\n",
    "#sns.heatmap(cor, square = True, linewidth = .5, annot=True, vmin=0, vmax=1) "
   ]
  },
  {
   "cell_type": "code",
   "execution_count": 5,
   "metadata": {
    "extensions": {
     "jupyter_dashboards": {
      "version": 1,
      "views": {
       "grid_default": {},
       "report_default": {
        "hidden": true
       }
      }
     }
    },
    "slideshow": {
     "slide_type": "slide"
    }
   },
   "outputs": [
    {
     "data": {
      "text/plain": [
       "<matplotlib.axes._subplots.AxesSubplot at 0x14bd220b940>"
      ]
     },
     "execution_count": 5,
     "metadata": {},
     "output_type": "execute_result"
    },
    {
     "data": {
      "image/png": "[encoded data removed]",
      "text/plain": [
       "<Figure size 432x288 with 2 Axes>"
      ]
     },
     "metadata": {
      "needs_background": "light"
     },
     "output_type": "display_data"
    }
   ],
   "source": [
    "wh1 = wh[['Happiness.Score','Economy..GDP.per.Capita.','Family','Health..Life.Expectancy.', 'Freedom', \n",
    "          'Generosity','Trust..Government.Corruption.','Dystopia.Residual']] #buat make kolom-kolom yang penting\n",
    "cor = wh1.corr() #itung korelasinya atau hubungan antar data pake correlation matrix\n",
    "sns.heatmap(cor, square = True, linewidth = .5, annot=True, vmin=0, vmax=1) "
   ]
  },
  {
   "cell_type": "markdown",
   "metadata": {
    "extensions": {
     "jupyter_dashboards": {
      "version": 1,
      "views": {
       "grid_default": {},
       "report_default": {
        "hidden": false
       }
      }
     }
    },
    "slideshow": {
     "slide_type": "fragment"
    }
   },
   "source": [
    "Makin tinggi hubungannya makin besar score nya begitupula semakin warnanya muda semakin tinggi korelasinya. Contohnya: *Economy* sama *Health life* skornya 0,84 berarti korelasinya tinggi"
   ]
  },
  {
   "cell_type": "markdown",
   "metadata": {
    "extensions": {
     "jupyter_dashboards": {
      "version": 1,
      "views": {
       "grid_default": {},
       "report_default": {
        "hidden": false
       }
      }
     }
    },
    "slideshow": {
     "slide_type": "slide"
    }
   },
   "source": [
    "## Visualisasi dengan Choropleth\n",
    "Pada bagian ini untuk mengetahui *plotting world map* berdasarkan *Happiness Score* nya "
   ]
  },
  {
   "cell_type": "code",
   "execution_count": 6,
   "metadata": {
    "extensions": {
     "jupyter_dashboards": {
      "version": 1,
      "views": {
       "grid_default": {},
       "report_default": {
        "hidden": true
       }
      }
     }
    },
    "slideshow": {
     "slide_type": "slide"
    }
   },
   "outputs": [
    {
     "data": {
      "application/vnd.plotly.v1+json": {
       "config": {
        "linkText": "Export to plot.ly",
        "plotlyServerURL": "https://plot.ly",
        "showLink": false
       },
       "data": [
        {
         "colorbar": {
          "title": {
           "text": "Happiness"
          }
         },
         "colorscale": "Rainbow",
         "locationmode": "country names",
         "locations": [
          "Norway",
          "Denmark",
          "Iceland",
          "Switzerland",
          "Finland",
          "Netherlands",
          "Canada",
          "New Zealand",
          "Sweden",
          "Australia",
          "Israel",
          "Costa Rica",
          "Austria",
          "United States",
          "Ireland",
          "Germany",
          "Belgium",
          "Luxembourg",
          "United Kingdom",
          "Chile",
          "United Arab Emirates",
          "Brazil",
          "Czech Republic",
          "Argentina",
          "Mexico",
          "Singapore",
          "Malta",
          "Uruguay",
          "Guatemala",
          "Panama",
          "France",
          "Thailand",
          "Taiwan Province of China",
          "Spain",
          "Qatar",
          "Colombia",
          "Saudi Arabia",
          "Trinidad and Tobago",
          "Kuwait",
          "Slovakia",
          "Bahrain",
          "Malaysia",
          "Nicaragua",
          "Ecuador",
          "El Salvador",
          "Poland",
          "Uzbekistan",
          "Italy",
          "Russia",
          "Belize",
          "Japan",
          "Lithuania",
          "Algeria",
          "Latvia",
          "South Korea",
          "Moldova",
          "Romania",
          "Bolivia",
          "Turkmenistan",
          "Kazakhstan",
          "North Cyprus",
          "Slovenia",
          "Peru",
          "Mauritius",
          "Cyprus",
          "Estonia",
          "Belarus",
          "Libya",
          "Turkey",
          "Paraguay",
          "Hong Kong S.A.R., China",
          "Philippines",
          "Serbia",
          "Jordan",
          "Hungary",
          "Jamaica",
          "Croatia",
          "Kosovo",
          "China",
          "Pakistan",
          "Indonesia",
          "Venezuela",
          "Montenegro",
          "Morocco",
          "Azerbaijan",
          "Dominican Republic",
          "Greece",
          "Lebanon",
          "Portugal",
          "Bosnia and Herzegovina",
          "Honduras",
          "Macedonia",
          "Somalia",
          "Vietnam",
          "Nigeria",
          "Tajikistan",
          "Bhutan",
          "Kyrgyzstan",
          "Nepal",
          "Mongolia",
          "South Africa",
          "Tunisia",
          "Palestinian Territories",
          "Egypt",
          "Bulgaria",
          "Sierra Leone",
          "Cameroon",
          "Iran",
          "Albania",
          "Bangladesh",
          "Namibia",
          "Kenya",
          "Mozambique",
          "Myanmar",
          "Senegal",
          "Zambia",
          "Iraq",
          "Gabon",
          "Ethiopia",
          "Sri Lanka",
          "Armenia",
          "India",
          "Mauritania",
          "Congo (Brazzaville)",
          "Georgia",
          "Congo (Kinshasa)",
          "Mali",
          "Ivory Coast",
          "Cambodia",
          "Sudan",
          "Ghana",
          "Ukraine",
          "Uganda",
          "Burkina Faso",
          "Niger",
          "Malawi",
          "Chad",
          "Zimbabwe",
          "Lesotho",
          "Angola",
          "Afghanistan",
          "Botswana",
          "Benin",
          "Madagascar",
          "Haiti",
          "Yemen",
          "South Sudan",
          "Liberia",
          "Guinea",
          "Togo",
          "Rwanda",
          "Syria",
          "Tanzania",
          "Burundi",
          "Central African Republic"
         ],
         "text": [
          "Norway",
          "Denmark",
          "Iceland",
          "Switzerland",
          "Finland",
          "Netherlands",
          "Canada",
          "New Zealand",
          "Sweden",
          "Australia",
          "Israel",
          "Costa Rica",
          "Austria",
          "United States",
          "Ireland",
          "Germany",
          "Belgium",
          "Luxembourg",
          "United Kingdom",
          "Chile",
          "United Arab Emirates",
          "Brazil",
          "Czech Republic",
          "Argentina",
          "Mexico",
          "Singapore",
          "Malta",
          "Uruguay",
          "Guatemala",
          "Panama",
          "France",
          "Thailand",
          "Taiwan Province of China",
          "Spain",
          "Qatar",
          "Colombia",
          "Saudi Arabia",
          "Trinidad and Tobago",
          "Kuwait",
          "Slovakia",
          "Bahrain",
          "Malaysia",
          "Nicaragua",
          "Ecuador",
          "El Salvador",
          "Poland",
          "Uzbekistan",
          "Italy",
          "Russia",
          "Belize",
          "Japan",
          "Lithuania",
          "Algeria",
          "Latvia",
          "South Korea",
          "Moldova",
          "Romania",
          "Bolivia",
          "Turkmenistan",
          "Kazakhstan",
          "North Cyprus",
          "Slovenia",
          "Peru",
          "Mauritius",
          "Cyprus",
          "Estonia",
          "Belarus",
          "Libya",
          "Turkey",
          "Paraguay",
          "Hong Kong S.A.R., China",
          "Philippines",
          "Serbia",
          "Jordan",
          "Hungary",
          "Jamaica",
          "Croatia",
          "Kosovo",
          "China",
          "Pakistan",
          "Indonesia",
          "Venezuela",
          "Montenegro",
          "Morocco",
          "Azerbaijan",
          "Dominican Republic",
          "Greece",
          "Lebanon",
          "Portugal",
          "Bosnia and Herzegovina",
          "Honduras",
          "Macedonia",
          "Somalia",
          "Vietnam",
          "Nigeria",
          "Tajikistan",
          "Bhutan",
          "Kyrgyzstan",
          "Nepal",
          "Mongolia",
          "South Africa",
          "Tunisia",
          "Palestinian Territories",
          "Egypt",
          "Bulgaria",
          "Sierra Leone",
          "Cameroon",
          "Iran",
          "Albania",
          "Bangladesh",
          "Namibia",
          "Kenya",
          "Mozambique",
          "Myanmar",
          "Senegal",
          "Zambia",
          "Iraq",
          "Gabon",
          "Ethiopia",
          "Sri Lanka",
          "Armenia",
          "India",
          "Mauritania",
          "Congo (Brazzaville)",
          "Georgia",
          "Congo (Kinshasa)",
          "Mali",
          "Ivory Coast",
          "Cambodia",
          "Sudan",
          "Ghana",
          "Ukraine",
          "Uganda",
          "Burkina Faso",
          "Niger",
          "Malawi",
          "Chad",
          "Zimbabwe",
          "Lesotho",
          "Angola",
          "Afghanistan",
          "Botswana",
          "Benin",
          "Madagascar",
          "Haiti",
          "Yemen",
          "South Sudan",
          "Liberia",
          "Guinea",
          "Togo",
          "Rwanda",
          "Syria",
          "Tanzania",
          "Burundi",
          "Central African Republic"
         ],
         "type": "choropleth",
         "uid": "221b266c-e9c0-4b44-a41c-bb9d6cbb3c05",
         "z": [
          7.537000179290769,
          7.52199983596802,
          7.50400018692017,
          7.49399995803833,
          7.468999862670901,
          7.3769998550415,
          7.31599998474121,
          7.31400012969971,
          7.28399991989136,
          7.28399991989136,
          7.212999820709231,
          7.0789999961853,
          7.00600004196167,
          6.993000030517581,
          6.9770002365112305,
          6.9510002136230495,
          6.89099979400635,
          6.86299991607666,
          6.71400022506714,
          6.65199995040894,
          6.6479997634887695,
          6.6350002288818395,
          6.60900020599365,
          6.59899997711182,
          6.57800006866455,
          6.57200002670288,
          6.52699995040894,
          6.4539999961853,
          6.4539999961853,
          6.4520001411438,
          6.44199991226196,
          6.4239997863769505,
          6.42199993133545,
          6.40299987792969,
          6.375,
          6.35699987411499,
          6.343999862670901,
          6.1680002212524405,
          6.10500001907349,
          6.09800004959106,
          6.08699989318848,
          6.08400011062622,
          6.07100009918213,
          6.00799989700317,
          6.002999782562259,
          5.97300004959106,
          5.97100019454956,
          5.96400022506714,
          5.962999820709231,
          5.955999851226809,
          5.92000007629395,
          5.90199995040894,
          5.872000217437741,
          5.849999904632571,
          5.837999820709231,
          5.837999820709231,
          5.824999809265139,
          5.82299995422363,
          5.82200002670288,
          5.8189997673034695,
          5.80999994277954,
          5.75799989700317,
          5.71500015258789,
          5.62900018692017,
          5.62099981307983,
          5.61100006103516,
          5.5689997673034695,
          5.525000095367429,
          5.5,
          5.493000030517581,
          5.47200012207031,
          5.42999982833862,
          5.39499998092651,
          5.33599996566772,
          5.32399988174438,
          5.31099987030029,
          5.2930002212524405,
          5.27899980545044,
          5.2729997634887695,
          5.26900005340576,
          5.26200008392334,
          5.25,
          5.23699998855591,
          5.2350001335144,
          5.234000205993651,
          5.230000019073491,
          5.2270002365112305,
          5.22499990463257,
          5.19500017166138,
          5.18200016021729,
          5.1810002326965305,
          5.175000190734861,
          5.151000022888179,
          5.07399988174438,
          5.07399988174438,
          5.04099988937378,
          5.01100015640259,
          5.0040001869201705,
          4.961999893188481,
          4.95499992370605,
          4.8289999961853,
          4.80499982833862,
          4.77500009536743,
          4.7350001335144,
          4.71400022506714,
          4.70900011062622,
          4.69500017166138,
          4.69199991226196,
          4.64400005340576,
          4.60799980163574,
          4.57399988174438,
          4.55299997329712,
          4.550000190734861,
          4.54500007629395,
          4.53499984741211,
          4.513999938964839,
          4.49700021743774,
          4.46500015258789,
          4.46000003814697,
          4.44000005722046,
          4.37599992752075,
          4.31500005722046,
          4.29199981689453,
          4.29099988937378,
          4.28599977493286,
          4.2800002098083505,
          4.19000005722046,
          4.17999982833862,
          4.1680002212524405,
          4.138999938964839,
          4.11999988555908,
          4.09600019454956,
          4.08099985122681,
          4.03200006484985,
          4.02799987792969,
          3.97000002861023,
          3.9360001087188703,
          3.875,
          3.80800008773804,
          3.79500007629395,
          3.7939999103546103,
          3.7660000324249303,
          3.65700006484985,
          3.64400005340576,
          3.6029999256133998,
          3.59299993515015,
          3.5910000801086404,
          3.5329999923706095,
          3.50699996948242,
          3.4949998855590803,
          3.47099995613098,
          3.46199989318848,
          3.34899997711182,
          2.90499997138977,
          2.69300007820129
         ]
        }
       ],
       "layout": {
        "geo": {
         "projection": {
          "type": "mercator"
         },
         "showframe": false
        },
        "title": {
         "text": "Happiness Index 2017"
        }
       }
      },
      "text/html": [
       "<div>\n",
       "        \n",
       "        \n",
       "            <div id=\"6f6e2b94-d6b1-4a3a-a309-6ffd26ec61bc\" class=\"plotly-graph-div\" style=\"height:525px; width:100%;\"></div>\n",
       "            <script type=\"text/javascript\">\n",
       "                require([\"plotly\"], function(Plotly) {\n",
       "                    window.PLOTLYENV=window.PLOTLYENV || {};\n",
       "                    window.PLOTLYENV.BASE_URL='https://plot.ly';\n",
       "                    \n",
       "                if (document.getElementById(\"6f6e2b94-d6b1-4a3a-a309-6ffd26ec61bc\")) {\n",
       "                    Plotly.newPlot(\n",
       "                        '6f6e2b94-d6b1-4a3a-a309-6ffd26ec61bc',\n",
       "                        [{\"colorbar\": {\"title\": {\"text\": \"Happiness\"}}, \"colorscale\": \"Rainbow\", \"locationmode\": \"country names\", \"locations\": [\"Norway\", \"Denmark\", \"Iceland\", \"Switzerland\", \"Finland\", \"Netherlands\", \"Canada\", \"New Zealand\", \"Sweden\", \"Australia\", \"Israel\", \"Costa Rica\", \"Austria\", \"United States\", \"Ireland\", \"Germany\", \"Belgium\", \"Luxembourg\", \"United Kingdom\", \"Chile\", \"United Arab Emirates\", \"Brazil\", \"Czech Republic\", \"Argentina\", \"Mexico\", \"Singapore\", \"Malta\", \"Uruguay\", \"Guatemala\", \"Panama\", \"France\", \"Thailand\", \"Taiwan Province of China\", \"Spain\", \"Qatar\", \"Colombia\", \"Saudi Arabia\", \"Trinidad and Tobago\", \"Kuwait\", \"Slovakia\", \"Bahrain\", \"Malaysia\", \"Nicaragua\", \"Ecuador\", \"El Salvador\", \"Poland\", \"Uzbekistan\", \"Italy\", \"Russia\", \"Belize\", \"Japan\", \"Lithuania\", \"Algeria\", \"Latvia\", \"South Korea\", \"Moldova\", \"Romania\", \"Bolivia\", \"Turkmenistan\", \"Kazakhstan\", \"North Cyprus\", \"Slovenia\", \"Peru\", \"Mauritius\", \"Cyprus\", \"Estonia\", \"Belarus\", \"Libya\", \"Turkey\", \"Paraguay\", \"Hong Kong S.A.R., China\", \"Philippines\", \"Serbia\", \"Jordan\", \"Hungary\", \"Jamaica\", \"Croatia\", \"Kosovo\", \"China\", \"Pakistan\", \"Indonesia\", \"Venezuela\", \"Montenegro\", \"Morocco\", \"Azerbaijan\", \"Dominican Republic\", \"Greece\", \"Lebanon\", \"Portugal\", \"Bosnia and Herzegovina\", \"Honduras\", \"Macedonia\", \"Somalia\", \"Vietnam\", \"Nigeria\", \"Tajikistan\", \"Bhutan\", \"Kyrgyzstan\", \"Nepal\", \"Mongolia\", \"South Africa\", \"Tunisia\", \"Palestinian Territories\", \"Egypt\", \"Bulgaria\", \"Sierra Leone\", \"Cameroon\", \"Iran\", \"Albania\", \"Bangladesh\", \"Namibia\", \"Kenya\", \"Mozambique\", \"Myanmar\", \"Senegal\", \"Zambia\", \"Iraq\", \"Gabon\", \"Ethiopia\", \"Sri Lanka\", \"Armenia\", \"India\", \"Mauritania\", \"Congo (Brazzaville)\", \"Georgia\", \"Congo (Kinshasa)\", \"Mali\", \"Ivory Coast\", \"Cambodia\", \"Sudan\", \"Ghana\", \"Ukraine\", \"Uganda\", \"Burkina Faso\", \"Niger\", \"Malawi\", \"Chad\", \"Zimbabwe\", \"Lesotho\", \"Angola\", \"Afghanistan\", \"Botswana\", \"Benin\", \"Madagascar\", \"Haiti\", \"Yemen\", \"South Sudan\", \"Liberia\", \"Guinea\", \"Togo\", \"Rwanda\", \"Syria\", \"Tanzania\", \"Burundi\", \"Central African Republic\"], \"text\": [\"Norway\", \"Denmark\", \"Iceland\", \"Switzerland\", \"Finland\", \"Netherlands\", \"Canada\", \"New Zealand\", \"Sweden\", \"Australia\", \"Israel\", \"Costa Rica\", \"Austria\", \"United States\", \"Ireland\", \"Germany\", \"Belgium\", \"Luxembourg\", \"United Kingdom\", \"Chile\", \"United Arab Emirates\", \"Brazil\", \"Czech Republic\", \"Argentina\", \"Mexico\", \"Singapore\", \"Malta\", \"Uruguay\", \"Guatemala\", \"Panama\", \"France\", \"Thailand\", \"Taiwan Province of China\", \"Spain\", \"Qatar\", \"Colombia\", \"Saudi Arabia\", \"Trinidad and Tobago\", \"Kuwait\", \"Slovakia\", \"Bahrain\", \"Malaysia\", \"Nicaragua\", \"Ecuador\", \"El Salvador\", \"Poland\", \"Uzbekistan\", \"Italy\", \"Russia\", \"Belize\", \"Japan\", \"Lithuania\", \"Algeria\", \"Latvia\", \"South Korea\", \"Moldova\", \"Romania\", \"Bolivia\", \"Turkmenistan\", \"Kazakhstan\", \"North Cyprus\", \"Slovenia\", \"Peru\", \"Mauritius\", \"Cyprus\", \"Estonia\", \"Belarus\", \"Libya\", \"Turkey\", \"Paraguay\", \"Hong Kong S.A.R., China\", \"Philippines\", \"Serbia\", \"Jordan\", \"Hungary\", \"Jamaica\", \"Croatia\", \"Kosovo\", \"China\", \"Pakistan\", \"Indonesia\", \"Venezuela\", \"Montenegro\", \"Morocco\", \"Azerbaijan\", \"Dominican Republic\", \"Greece\", \"Lebanon\", \"Portugal\", \"Bosnia and Herzegovina\", \"Honduras\", \"Macedonia\", \"Somalia\", \"Vietnam\", \"Nigeria\", \"Tajikistan\", \"Bhutan\", \"Kyrgyzstan\", \"Nepal\", \"Mongolia\", \"South Africa\", \"Tunisia\", \"Palestinian Territories\", \"Egypt\", \"Bulgaria\", \"Sierra Leone\", \"Cameroon\", \"Iran\", \"Albania\", \"Bangladesh\", \"Namibia\", \"Kenya\", \"Mozambique\", \"Myanmar\", \"Senegal\", \"Zambia\", \"Iraq\", \"Gabon\", \"Ethiopia\", \"Sri Lanka\", \"Armenia\", \"India\", \"Mauritania\", \"Congo (Brazzaville)\", \"Georgia\", \"Congo (Kinshasa)\", \"Mali\", \"Ivory Coast\", \"Cambodia\", \"Sudan\", \"Ghana\", \"Ukraine\", \"Uganda\", \"Burkina Faso\", \"Niger\", \"Malawi\", \"Chad\", \"Zimbabwe\", \"Lesotho\", \"Angola\", \"Afghanistan\", \"Botswana\", \"Benin\", \"Madagascar\", \"Haiti\", \"Yemen\", \"South Sudan\", \"Liberia\", \"Guinea\", \"Togo\", \"Rwanda\", \"Syria\", \"Tanzania\", \"Burundi\", \"Central African Republic\"], \"type\": \"choropleth\", \"uid\": \"221b266c-e9c0-4b44-a41c-bb9d6cbb3c05\", \"z\": [7.537000179290769, 7.52199983596802, 7.50400018692017, 7.49399995803833, 7.468999862670901, 7.3769998550415, 7.31599998474121, 7.31400012969971, 7.28399991989136, 7.28399991989136, 7.212999820709231, 7.0789999961853, 7.00600004196167, 6.993000030517581, 6.9770002365112305, 6.9510002136230495, 6.89099979400635, 6.86299991607666, 6.71400022506714, 6.65199995040894, 6.6479997634887695, 6.6350002288818395, 6.60900020599365, 6.59899997711182, 6.57800006866455, 6.57200002670288, 6.52699995040894, 6.4539999961853, 6.4539999961853, 6.4520001411438, 6.44199991226196, 6.4239997863769505, 6.42199993133545, 6.40299987792969, 6.375, 6.35699987411499, 6.343999862670901, 6.1680002212524405, 6.10500001907349, 6.09800004959106, 6.08699989318848, 6.08400011062622, 6.07100009918213, 6.00799989700317, 6.002999782562259, 5.97300004959106, 5.97100019454956, 5.96400022506714, 5.962999820709231, 5.955999851226809, 5.92000007629395, 5.90199995040894, 5.872000217437741, 5.849999904632571, 5.837999820709231, 5.837999820709231, 5.824999809265139, 5.82299995422363, 5.82200002670288, 5.8189997673034695, 5.80999994277954, 5.75799989700317, 5.71500015258789, 5.62900018692017, 5.62099981307983, 5.61100006103516, 5.5689997673034695, 5.525000095367429, 5.5, 5.493000030517581, 5.47200012207031, 5.42999982833862, 5.39499998092651, 5.33599996566772, 5.32399988174438, 5.31099987030029, 5.2930002212524405, 5.27899980545044, 5.2729997634887695, 5.26900005340576, 5.26200008392334, 5.25, 5.23699998855591, 5.2350001335144, 5.234000205993651, 5.230000019073491, 5.2270002365112305, 5.22499990463257, 5.19500017166138, 5.18200016021729, 5.1810002326965305, 5.175000190734861, 5.151000022888179, 5.07399988174438, 5.07399988174438, 5.04099988937378, 5.01100015640259, 5.0040001869201705, 4.961999893188481, 4.95499992370605, 4.8289999961853, 4.80499982833862, 4.77500009536743, 4.7350001335144, 4.71400022506714, 4.70900011062622, 4.69500017166138, 4.69199991226196, 4.64400005340576, 4.60799980163574, 4.57399988174438, 4.55299997329712, 4.550000190734861, 4.54500007629395, 4.53499984741211, 4.513999938964839, 4.49700021743774, 4.46500015258789, 4.46000003814697, 4.44000005722046, 4.37599992752075, 4.31500005722046, 4.29199981689453, 4.29099988937378, 4.28599977493286, 4.2800002098083505, 4.19000005722046, 4.17999982833862, 4.1680002212524405, 4.138999938964839, 4.11999988555908, 4.09600019454956, 4.08099985122681, 4.03200006484985, 4.02799987792969, 3.97000002861023, 3.9360001087188703, 3.875, 3.80800008773804, 3.79500007629395, 3.7939999103546103, 3.7660000324249303, 3.65700006484985, 3.64400005340576, 3.6029999256133998, 3.59299993515015, 3.5910000801086404, 3.5329999923706095, 3.50699996948242, 3.4949998855590803, 3.47099995613098, 3.46199989318848, 3.34899997711182, 2.90499997138977, 2.69300007820129]}],\n",
       "                        {\"geo\": {\"projection\": {\"type\": \"mercator\"}, \"showframe\": false}, \"title\": {\"text\": \"Happiness Index 2017\"}},\n",
       "                        {\"showLink\": false, \"linkText\": \"Export to plot.ly\", \"plotlyServerURL\": \"https://plot.ly\", \"responsive\": true}\n",
       "                    ).then(function(){\n",
       "                            \n",
       "var gd = document.getElementById('6f6e2b94-d6b1-4a3a-a309-6ffd26ec61bc');\n",
       "var x = new MutationObserver(function (mutations, observer) {{\n",
       "        var display = window.getComputedStyle(gd).display;\n",
       "        if (!display || display === 'none') {{\n",
       "            console.log([gd, 'removed!']);\n",
       "            Plotly.purge(gd);\n",
       "            observer.disconnect();\n",
       "        }}\n",
       "}});\n",
       "\n",
       "// Listen for the removal of the full notebook cells\n",
       "var notebookContainer = gd.closest('#notebook-container');\n",
       "if (notebookContainer) {{\n",
       "    x.observe(notebookContainer, {childList: true});\n",
       "}}\n",
       "\n",
       "// Listen for the clearing of the current output cell\n",
       "var outputEl = gd.closest('.output');\n",
       "if (outputEl) {{\n",
       "    x.observe(outputEl, {childList: true});\n",
       "}}\n",
       "\n",
       "                        })\n",
       "                };\n",
       "                });\n",
       "            </script>\n",
       "        </div>"
      ]
     },
     "metadata": {},
     "output_type": "display_data"
    }
   ],
   "source": [
    "#Ref: https://plot.ly/python/choropleth-maps/\n",
    "data = dict(type = 'choropleth', \n",
    "           locations = wh['Country'],\n",
    "           locationmode = 'country names',\n",
    "           z = wh['Happiness.Score'], \n",
    "           text = wh['Country'],\n",
    "           colorbar = {'title':'Happiness'}\n",
    "           ,colorscale = 'Rainbow')\n",
    "layout = dict(title = 'Happiness Index 2017', \n",
    "             geo = dict(showframe = False, \n",
    "                       projection = {'type': 'mercator'}))\n",
    "choromap3 = go.Figure(data = [data], layout=layout)\n",
    "iplot(choromap3)"
   ]
  },
  {
   "cell_type": "markdown",
   "metadata": {
    "extensions": {
     "jupyter_dashboards": {
      "version": 1,
      "views": {
       "grid_default": {},
       "report_default": {
        "hidden": false
       }
      }
     }
    },
    "slideshow": {
     "slide_type": "slide"
    }
   },
   "source": [
    "## Skala Data\n",
    "\n",
    "Terlebih dahulu akan di skalain datanya sebelum ke tahap selanjutnya (tahap clustering), karena clustering sangat sensitif sama yang namanya *range data*"
   ]
  },
  {
   "cell_type": "code",
   "execution_count": 7,
   "metadata": {
    "extensions": {
     "jupyter_dashboards": {
      "version": 1,
      "views": {
       "grid_default": {},
       "report_default": {
        "hidden": false
       }
      }
     }
    },
    "slideshow": {
     "slide_type": "fragment"
    }
   },
   "outputs": [
    {
     "data": {
      "text/plain": [
       "array([[ 1.93599602,  1.50618765,  1.20357658, ...,  0.8569643 ,\n",
       "         1.90308437,  0.85629599],\n",
       "       [ 1.92269283,  1.18651768,  1.26503623, ...,  0.80685634,\n",
       "         2.73999784,  0.92989102],\n",
       "       [ 1.90672969,  1.1823454 ,  1.47266877, ...,  1.70201314,\n",
       "         0.30006609,  0.94796425],\n",
       "       ...,\n",
       "       [-1.77816933, -1.12910094, -0.51306362, ...,  0.79923322,\n",
       "        -0.56334657, -2.4660431 ],\n",
       "       [-2.17193469, -2.12929212, -1.95262416, ..., -0.31596505,\n",
       "        -0.38459935, -0.33549229],\n",
       "       [-2.35994869, -2.34773594, -4.15212515, ...,  0.253028  ,\n",
       "        -0.65680192,  0.43290816]])"
      ]
     },
     "execution_count": 7,
     "metadata": {},
     "output_type": "execute_result"
    }
   ],
   "source": [
    "ss = StandardScaler()\n",
    "ss.fit_transform(wh1)"
   ]
  },
  {
   "cell_type": "markdown",
   "metadata": {
    "extensions": {
     "jupyter_dashboards": {
      "version": 1,
      "views": {
       "grid_default": {},
       "report_default": {
        "hidden": false
       }
      }
     }
    },
    "slideshow": {
     "slide_type": "slide"
    }
   },
   "source": [
    "## K-Means Clustering\n"
   ]
  },
  {
   "cell_type": "code",
   "execution_count": 8,
   "metadata": {
    "extensions": {
     "jupyter_dashboards": {
      "version": 1,
      "views": {
       "grid_default": {},
       "report_default": {
        "hidden": true
       }
      }
     }
    },
    "slideshow": {
     "slide_type": "fragment"
    }
   },
   "outputs": [],
   "source": [
    "#K means Clustering \n",
    "def doKmeans(X, nclust=2):\n",
    "    model = KMeans(nclust)\n",
    "    model.fit(X)\n",
    "    clust_labels = model.predict(X)\n",
    "    cent = model.cluster_centers_\n",
    "    return (clust_labels, cent)\n",
    "\n",
    "clust_labels, cent = doKmeans(wh1, 2)\n",
    "kmeans = pd.DataFrame(clust_labels)\n",
    "wh1.insert((wh1.shape[1]),'kmeans',kmeans)\n",
    "\n",
    "#bikin cluster 2"
   ]
  },
  {
   "cell_type": "code",
   "execution_count": 9,
   "metadata": {
    "extensions": {
     "jupyter_dashboards": {
      "version": 1,
      "views": {
       "grid_default": {},
       "report_default": {
        "hidden": false
       }
      }
     }
    },
    "slideshow": {
     "slide_type": "slide"
    }
   },
   "outputs": [
    {
     "data": {
      "text/plain": [
       "<matplotlib.colorbar.Colorbar at 0x14bd30dd048>"
      ]
     },
     "execution_count": 9,
     "metadata": {},
     "output_type": "execute_result"
    },
    {
     "data": {
      "image/png": "[encoded data removed]",
      "text/plain": [
       "<Figure size 432x288 with 2 Axes>"
      ]
     },
     "metadata": {
      "needs_background": "light"
     },
     "output_type": "display_data"
    }
   ],
   "source": [
    "#Plot cluster Kmeans nya berdasarkan GDP dan Health\n",
    "fig = plt.figure()\n",
    "ax = fig.add_subplot(111)\n",
    "scatter = ax.scatter(wh1['Economy..GDP.per.Capita.'],wh1['Health..Life.Expectancy.'],\n",
    "                     c=kmeans[0],s=50)\n",
    "ax.set_title('K-Means Clustering')\n",
    "ax.set_xlabel('GDP per Capita')\n",
    "ax.set_ylabel('Health Life Expectancy')\n",
    "plt.colorbar(scatter)"
   ]
  },
  {
   "cell_type": "markdown",
   "metadata": {
    "extensions": {
     "jupyter_dashboards": {
      "version": 1,
      "views": {
       "grid_default": {},
       "report_default": {
        "hidden": false
       }
      }
     }
    },
    "slideshow": {
     "slide_type": "slide"
    }
   },
   "source": [
    "## Agglomerative"
   ]
  },
  {
   "cell_type": "code",
   "execution_count": 10,
   "metadata": {
    "extensions": {
     "jupyter_dashboards": {
      "version": 1,
      "views": {
       "grid_default": {},
       "report_default": {
        "hidden": true
       }
      }
     }
    },
    "slideshow": {
     "slide_type": "fragment"
    }
   },
   "outputs": [],
   "source": [
    "def doAgglomerative(X, nclust=2):\n",
    "    model = AgglomerativeClustering(n_clusters=nclust, affinity = 'euclidean', linkage = 'ward')\n",
    "    clust_labels1 = model.fit_predict(X)\n",
    "    return (clust_labels1)\n",
    "\n",
    "clust_labels1 = doAgglomerative(wh1, 2)\n",
    "agglomerative = pd.DataFrame(clust_labels1)\n",
    "wh1.insert((wh1.shape[1]),'agglomerative',agglomerative)\n",
    "\n",
    "#ini methode agglomeartive / hierarchial cluster pake 2 cluster"
   ]
  },
  {
   "cell_type": "code",
   "execution_count": 11,
   "metadata": {
    "extensions": {
     "jupyter_dashboards": {
      "version": 1,
      "views": {
       "grid_default": {},
       "report_default": {
        "hidden": false
       }
      }
     }
    },
    "slideshow": {
     "slide_type": "subslide"
    }
   },
   "outputs": [
    {
     "data": {
      "text/plain": [
       "<matplotlib.colorbar.Colorbar at 0x14bd3179e10>"
      ]
     },
     "execution_count": 11,
     "metadata": {},
     "output_type": "execute_result"
    },
    {
     "data": {
      "image/png": "[encoded data removed]",
      "text/plain": [
       "<Figure size 432x288 with 2 Axes>"
      ]
     },
     "metadata": {
      "needs_background": "light"
     },
     "output_type": "display_data"
    }
   ],
   "source": [
    "#Plot the clusters obtained using Agglomerative clustering or Hierarchical clustering\n",
    "fig = plt.figure()\n",
    "ax = fig.add_subplot(111)\n",
    "scatter = ax.scatter(wh1['Economy..GDP.per.Capita.'],wh1['Health..Life.Expectancy.'],\n",
    "                     c=agglomerative[0],s=50)\n",
    "ax.set_title('Agglomerative Clustering')\n",
    "ax.set_xlabel('GDP per Capita')\n",
    "ax.set_ylabel('Health lofe expectancy')\n",
    "plt.colorbar(scatter)\n",
    "\n",
    "#ini scatter plot hierarchial clustering"
   ]
  },
  {
   "cell_type": "markdown",
   "metadata": {
    "extensions": {
     "jupyter_dashboards": {
      "version": 1,
      "views": {
       "grid_default": {},
       "report_default": {
        "hidden": false
       }
      }
     }
    },
    "slideshow": {
     "slide_type": "slide"
    }
   },
   "source": [
    "## Affinity"
   ]
  },
  {
   "cell_type": "code",
   "execution_count": 12,
   "metadata": {
    "extensions": {
     "jupyter_dashboards": {
      "version": 1,
      "views": {
       "grid_default": {},
       "report_default": {
        "hidden": true
       }
      }
     }
    },
    "slideshow": {
     "slide_type": "subslide"
    }
   },
   "outputs": [],
   "source": [
    "def doAffinity(X):\n",
    "    model = AffinityPropagation(damping = 0.5, max_iter = 250, affinity = 'euclidean')\n",
    "    model.fit(X)\n",
    "    clust_labels2 = model.predict(X)\n",
    "    cent2 = model.cluster_centers_\n",
    "    return (clust_labels2, cent2)\n",
    "\n",
    "clust_labels2, cent2 = doAffinity(wh1)\n",
    "affinity = pd.DataFrame(clust_labels2)\n",
    "wh1.insert((wh1.shape[1]),'affinity',affinity)\n",
    "#ini Affinity cluster"
   ]
  },
  {
   "cell_type": "code",
   "execution_count": 13,
   "metadata": {
    "extensions": {
     "jupyter_dashboards": {
      "version": 1,
      "views": {
       "grid_default": {},
       "report_default": {
        "hidden": false
       }
      }
     }
    },
    "slideshow": {
     "slide_type": "subslide"
    }
   },
   "outputs": [
    {
     "data": {
      "text/plain": [
       "<matplotlib.colorbar.Colorbar at 0x14bd3a89e48>"
      ]
     },
     "execution_count": 13,
     "metadata": {},
     "output_type": "execute_result"
    },
    {
     "data": {
      "image/png": "[encoded data removed]",
      "text/plain": [
       "<Figure size 432x288 with 2 Axes>"
      ]
     },
     "metadata": {
      "needs_background": "light"
     },
     "output_type": "display_data"
    }
   ],
   "source": [
    "#Plotting the cluster obtained using Affinity algorithm\n",
    "fig = plt.figure()\n",
    "ax = fig.add_subplot(111)\n",
    "scatter = ax.scatter(wh1['Economy..GDP.per.Capita.'],wh1['Health..Life.Expectancy.'],\n",
    "                     c=affinity[0],s=50)\n",
    "ax.set_title('Affinity Clustering')\n",
    "ax.set_xlabel('GDP per Capita')\n",
    "ax.set_ylabel('Health Life Expectancy')\n",
    "plt.colorbar(scatter)\n",
    "\n",
    "#ini plot affinity "
   ]
  },
  {
   "cell_type": "markdown",
   "metadata": {
    "extensions": {
     "jupyter_dashboards": {
      "version": 1,
      "views": {
       "grid_default": {},
       "report_default": {
        "hidden": false
       }
      }
     }
    },
    "slideshow": {
     "slide_type": "slide"
    }
   },
   "source": [
    "## Gaussian Mixture Model\n"
   ]
  },
  {
   "cell_type": "code",
   "execution_count": 14,
   "metadata": {
    "extensions": {
     "jupyter_dashboards": {
      "version": 1,
      "views": {
       "grid_default": {},
       "report_default": {
        "hidden": true
       }
      }
     }
    },
    "slideshow": {
     "slide_type": "-"
    }
   },
   "outputs": [],
   "source": [
    "def doGMM(X, nclust=2):\n",
    "    model = GaussianMixture(n_components=nclust,init_params='kmeans')\n",
    "    model.fit(X)\n",
    "    clust_labels3 = model.predict(X)\n",
    "    return (clust_labels3)\n",
    "\n",
    "clust_labels3 = doGMM(wh1,2)\n",
    "gmm = pd.DataFrame(clust_labels3)\n",
    "wh1.insert((wh1.shape[1]),'gmm',gmm)\n",
    " #ini plotting gaussian mixture model"
   ]
  },
  {
   "cell_type": "code",
   "execution_count": 15,
   "metadata": {
    "extensions": {
     "jupyter_dashboards": {
      "version": 1,
      "views": {
       "grid_default": {},
       "report_default": {
        "hidden": false
       }
      }
     }
    },
    "slideshow": {
     "slide_type": "subslide"
    }
   },
   "outputs": [
    {
     "data": {
      "text/plain": [
       "<matplotlib.colorbar.Colorbar at 0x14bd3fce0b8>"
      ]
     },
     "execution_count": 15,
     "metadata": {},
     "output_type": "execute_result"
    },
    {
     "data": {
      "image/png": "[encoded data removed]",
      "text/plain": [
       "<Figure size 432x288 with 2 Axes>"
      ]
     },
     "metadata": {
      "needs_background": "light"
     },
     "output_type": "display_data"
    }
   ],
   "source": [
    "#Plotting cluster \n",
    "fig = plt.figure()\n",
    "ax = fig.add_subplot(111)\n",
    "scatter = ax.scatter(wh1['Economy..GDP.per.Capita.'],wh1['Health..Life.Expectancy.'],\n",
    "                     c=gmm[0],s=50)\n",
    "ax.set_title('Affinity Clustering')\n",
    "ax.set_xlabel('GDP per Capita')\n",
    "ax.set_ylabel('health life Expectancy')\n",
    "plt.colorbar(scatter)"
   ]
  },
  {
   "cell_type": "code",
   "execution_count": 16,
   "metadata": {
    "extensions": {
     "jupyter_dashboards": {
      "version": 1,
      "views": {
       "grid_default": {},
       "report_default": {
        "hidden": false
       }
      }
     }
    },
    "slideshow": {
     "slide_type": "skip"
    }
   },
   "outputs": [],
   "source": [
    "#wh1.head()"
   ]
  },
  {
   "cell_type": "markdown",
   "metadata": {
    "extensions": {
     "jupyter_dashboards": {
      "version": 1,
      "views": {
       "grid_default": {},
       "report_default": {
        "hidden": false
       }
      }
     }
    },
    "slideshow": {
     "slide_type": "skip"
    }
   },
   "source": [
    "### Visualisasi negera berdasarkan hasil clustering "
   ]
  },
  {
   "cell_type": "code",
   "execution_count": 17,
   "metadata": {
    "extensions": {
     "jupyter_dashboards": {
      "version": 1,
      "views": {
       "grid_default": {},
       "report_default": {
        "hidden": false
       }
      }
     }
    },
    "slideshow": {
     "slide_type": "slide"
    }
   },
   "outputs": [
    {
     "data": {
      "application/vnd.plotly.v1+json": {
       "config": {
        "linkText": "Export to plot.ly",
        "plotlyServerURL": "https://plot.ly",
        "showLink": false
       },
       "data": [
        {
         "colorbar": {
          "title": {
           "text": "Cluster Group"
          }
         },
         "colorscale": "Viridis",
         "locationmode": "country names",
         "locations": [
          "Norway",
          "Denmark",
          "Iceland",
          "Switzerland",
          "Finland",
          "Netherlands",
          "Canada",
          "New Zealand",
          "Sweden",
          "Australia",
          "Israel",
          "Costa Rica",
          "Austria",
          "United States",
          "Ireland",
          "Germany",
          "Belgium",
          "Luxembourg",
          "United Kingdom",
          "Chile",
          "United Arab Emirates",
          "Brazil",
          "Czech Republic",
          "Argentina",
          "Mexico",
          "Singapore",
          "Malta",
          "Uruguay",
          "Guatemala",
          "Panama",
          "France",
          "Thailand",
          "Taiwan Province of China",
          "Spain",
          "Qatar",
          "Colombia",
          "Saudi Arabia",
          "Trinidad and Tobago",
          "Kuwait",
          "Slovakia",
          "Bahrain",
          "Malaysia",
          "Nicaragua",
          "Ecuador",
          "El Salvador",
          "Poland",
          "Uzbekistan",
          "Italy",
          "Russia",
          "Belize",
          "Japan",
          "Lithuania",
          "Algeria",
          "Latvia",
          "South Korea",
          "Moldova",
          "Romania",
          "Bolivia",
          "Turkmenistan",
          "Kazakhstan",
          "North Cyprus",
          "Slovenia",
          "Peru",
          "Mauritius",
          "Cyprus",
          "Estonia",
          "Belarus",
          "Libya",
          "Turkey",
          "Paraguay",
          "Hong Kong S.A.R., China",
          "Philippines",
          "Serbia",
          "Jordan",
          "Hungary",
          "Jamaica",
          "Croatia",
          "Kosovo",
          "China",
          "Pakistan",
          "Indonesia",
          "Venezuela",
          "Montenegro",
          "Morocco",
          "Azerbaijan",
          "Dominican Republic",
          "Greece",
          "Lebanon",
          "Portugal",
          "Bosnia and Herzegovina",
          "Honduras",
          "Macedonia",
          "Somalia",
          "Vietnam",
          "Nigeria",
          "Tajikistan",
          "Bhutan",
          "Kyrgyzstan",
          "Nepal",
          "Mongolia",
          "South Africa",
          "Tunisia",
          "Palestinian Territories",
          "Egypt",
          "Bulgaria",
          "Sierra Leone",
          "Cameroon",
          "Iran",
          "Albania",
          "Bangladesh",
          "Namibia",
          "Kenya",
          "Mozambique",
          "Myanmar",
          "Senegal",
          "Zambia",
          "Iraq",
          "Gabon",
          "Ethiopia",
          "Sri Lanka",
          "Armenia",
          "India",
          "Mauritania",
          "Congo (Brazzaville)",
          "Georgia",
          "Congo (Kinshasa)",
          "Mali",
          "Ivory Coast",
          "Cambodia",
          "Sudan",
          "Ghana",
          "Ukraine",
          "Uganda",
          "Burkina Faso",
          "Niger",
          "Malawi",
          "Chad",
          "Zimbabwe",
          "Lesotho",
          "Angola",
          "Afghanistan",
          "Botswana",
          "Benin",
          "Madagascar",
          "Haiti",
          "Yemen",
          "South Sudan",
          "Liberia",
          "Guinea",
          "Togo",
          "Rwanda",
          "Syria",
          "Tanzania",
          "Burundi",
          "Central African Republic"
         ],
         "text": [
          "Norway",
          "Denmark",
          "Iceland",
          "Switzerland",
          "Finland",
          "Netherlands",
          "Canada",
          "New Zealand",
          "Sweden",
          "Australia",
          "Israel",
          "Costa Rica",
          "Austria",
          "United States",
          "Ireland",
          "Germany",
          "Belgium",
          "Luxembourg",
          "United Kingdom",
          "Chile",
          "United Arab Emirates",
          "Brazil",
          "Czech Republic",
          "Argentina",
          "Mexico",
          "Singapore",
          "Malta",
          "Uruguay",
          "Guatemala",
          "Panama",
          "France",
          "Thailand",
          "Taiwan Province of China",
          "Spain",
          "Qatar",
          "Colombia",
          "Saudi Arabia",
          "Trinidad and Tobago",
          "Kuwait",
          "Slovakia",
          "Bahrain",
          "Malaysia",
          "Nicaragua",
          "Ecuador",
          "El Salvador",
          "Poland",
          "Uzbekistan",
          "Italy",
          "Russia",
          "Belize",
          "Japan",
          "Lithuania",
          "Algeria",
          "Latvia",
          "South Korea",
          "Moldova",
          "Romania",
          "Bolivia",
          "Turkmenistan",
          "Kazakhstan",
          "North Cyprus",
          "Slovenia",
          "Peru",
          "Mauritius",
          "Cyprus",
          "Estonia",
          "Belarus",
          "Libya",
          "Turkey",
          "Paraguay",
          "Hong Kong S.A.R., China",
          "Philippines",
          "Serbia",
          "Jordan",
          "Hungary",
          "Jamaica",
          "Croatia",
          "Kosovo",
          "China",
          "Pakistan",
          "Indonesia",
          "Venezuela",
          "Montenegro",
          "Morocco",
          "Azerbaijan",
          "Dominican Republic",
          "Greece",
          "Lebanon",
          "Portugal",
          "Bosnia and Herzegovina",
          "Honduras",
          "Macedonia",
          "Somalia",
          "Vietnam",
          "Nigeria",
          "Tajikistan",
          "Bhutan",
          "Kyrgyzstan",
          "Nepal",
          "Mongolia",
          "South Africa",
          "Tunisia",
          "Palestinian Territories",
          "Egypt",
          "Bulgaria",
          "Sierra Leone",
          "Cameroon",
          "Iran",
          "Albania",
          "Bangladesh",
          "Namibia",
          "Kenya",
          "Mozambique",
          "Myanmar",
          "Senegal",
          "Zambia",
          "Iraq",
          "Gabon",
          "Ethiopia",
          "Sri Lanka",
          "Armenia",
          "India",
          "Mauritania",
          "Congo (Brazzaville)",
          "Georgia",
          "Congo (Kinshasa)",
          "Mali",
          "Ivory Coast",
          "Cambodia",
          "Sudan",
          "Ghana",
          "Ukraine",
          "Uganda",
          "Burkina Faso",
          "Niger",
          "Malawi",
          "Chad",
          "Zimbabwe",
          "Lesotho",
          "Angola",
          "Afghanistan",
          "Botswana",
          "Benin",
          "Madagascar",
          "Haiti",
          "Yemen",
          "South Sudan",
          "Liberia",
          "Guinea",
          "Togo",
          "Rwanda",
          "Syria",
          "Tanzania",
          "Burundi",
          "Central African Republic"
         ],
         "type": "choropleth",
         "uid": "ffeca7f0-3e7c-4077-9695-2c6921ff8ffa",
         "z": [
          1,
          1,
          1,
          1,
          1,
          1,
          1,
          1,
          1,
          1,
          1,
          1,
          1,
          1,
          1,
          1,
          1,
          1,
          1,
          1,
          1,
          1,
          1,
          1,
          1,
          1,
          1,
          1,
          1,
          1,
          1,
          1,
          1,
          1,
          1,
          1,
          1,
          1,
          1,
          1,
          1,
          1,
          1,
          1,
          1,
          1,
          1,
          1,
          1,
          1,
          1,
          1,
          1,
          1,
          1,
          1,
          1,
          1,
          1,
          1,
          1,
          1,
          1,
          1,
          1,
          1,
          1,
          1,
          1,
          1,
          1,
          1,
          1,
          0,
          1,
          0,
          0,
          0,
          0,
          0,
          0,
          0,
          0,
          0,
          0,
          0,
          0,
          0,
          0,
          0,
          0,
          0,
          0,
          0,
          0,
          0,
          0,
          0,
          0,
          0,
          0,
          0,
          0,
          0,
          0,
          0,
          0,
          0,
          0,
          0,
          0,
          0,
          0,
          0,
          0,
          0,
          0,
          0,
          0,
          0,
          0,
          0,
          0,
          0,
          0,
          0,
          0,
          0,
          0,
          0,
          0,
          0,
          0,
          0,
          0,
          0,
          0,
          0,
          0,
          0,
          0,
          0,
          0,
          0,
          0,
          0,
          0,
          0,
          0,
          0,
          0,
          0,
          0,
          0,
          0
         ]
        }
       ],
       "layout": {
        "geo": {
         "projection": {
          "type": "mercator"
         },
         "showframe": false
        },
        "title": {
         "text": "Pengkelompokkan negara berdasarkan K-Means Clustering"
        }
       }
      },
      "text/html": [
       "<div>\n",
       "        \n",
       "        \n",
       "            <div id=\"af13720f-3c20-4839-9c4a-e50af76d1d85\" class=\"plotly-graph-div\" style=\"height:525px; width:100%;\"></div>\n",
       "            <script type=\"text/javascript\">\n",
       "                require([\"plotly\"], function(Plotly) {\n",
       "                    window.PLOTLYENV=window.PLOTLYENV || {};\n",
       "                    window.PLOTLYENV.BASE_URL='https://plot.ly';\n",
       "                    \n",
       "                if (document.getElementById(\"af13720f-3c20-4839-9c4a-e50af76d1d85\")) {\n",
       "                    Plotly.newPlot(\n",
       "                        'af13720f-3c20-4839-9c4a-e50af76d1d85',\n",
       "                        [{\"colorbar\": {\"title\": {\"text\": \"Cluster Group\"}}, \"colorscale\": \"Viridis\", \"locationmode\": \"country names\", \"locations\": [\"Norway\", \"Denmark\", \"Iceland\", \"Switzerland\", \"Finland\", \"Netherlands\", \"Canada\", \"New Zealand\", \"Sweden\", \"Australia\", \"Israel\", \"Costa Rica\", \"Austria\", \"United States\", \"Ireland\", \"Germany\", \"Belgium\", \"Luxembourg\", \"United Kingdom\", \"Chile\", \"United Arab Emirates\", \"Brazil\", \"Czech Republic\", \"Argentina\", \"Mexico\", \"Singapore\", \"Malta\", \"Uruguay\", \"Guatemala\", \"Panama\", \"France\", \"Thailand\", \"Taiwan Province of China\", \"Spain\", \"Qatar\", \"Colombia\", \"Saudi Arabia\", \"Trinidad and Tobago\", \"Kuwait\", \"Slovakia\", \"Bahrain\", \"Malaysia\", \"Nicaragua\", \"Ecuador\", \"El Salvador\", \"Poland\", \"Uzbekistan\", \"Italy\", \"Russia\", \"Belize\", \"Japan\", \"Lithuania\", \"Algeria\", \"Latvia\", \"South Korea\", \"Moldova\", \"Romania\", \"Bolivia\", \"Turkmenistan\", \"Kazakhstan\", \"North Cyprus\", \"Slovenia\", \"Peru\", \"Mauritius\", \"Cyprus\", \"Estonia\", \"Belarus\", \"Libya\", \"Turkey\", \"Paraguay\", \"Hong Kong S.A.R., China\", \"Philippines\", \"Serbia\", \"Jordan\", \"Hungary\", \"Jamaica\", \"Croatia\", \"Kosovo\", \"China\", \"Pakistan\", \"Indonesia\", \"Venezuela\", \"Montenegro\", \"Morocco\", \"Azerbaijan\", \"Dominican Republic\", \"Greece\", \"Lebanon\", \"Portugal\", \"Bosnia and Herzegovina\", \"Honduras\", \"Macedonia\", \"Somalia\", \"Vietnam\", \"Nigeria\", \"Tajikistan\", \"Bhutan\", \"Kyrgyzstan\", \"Nepal\", \"Mongolia\", \"South Africa\", \"Tunisia\", \"Palestinian Territories\", \"Egypt\", \"Bulgaria\", \"Sierra Leone\", \"Cameroon\", \"Iran\", \"Albania\", \"Bangladesh\", \"Namibia\", \"Kenya\", \"Mozambique\", \"Myanmar\", \"Senegal\", \"Zambia\", \"Iraq\", \"Gabon\", \"Ethiopia\", \"Sri Lanka\", \"Armenia\", \"India\", \"Mauritania\", \"Congo (Brazzaville)\", \"Georgia\", \"Congo (Kinshasa)\", \"Mali\", \"Ivory Coast\", \"Cambodia\", \"Sudan\", \"Ghana\", \"Ukraine\", \"Uganda\", \"Burkina Faso\", \"Niger\", \"Malawi\", \"Chad\", \"Zimbabwe\", \"Lesotho\", \"Angola\", \"Afghanistan\", \"Botswana\", \"Benin\", \"Madagascar\", \"Haiti\", \"Yemen\", \"South Sudan\", \"Liberia\", \"Guinea\", \"Togo\", \"Rwanda\", \"Syria\", \"Tanzania\", \"Burundi\", \"Central African Republic\"], \"text\": [\"Norway\", \"Denmark\", \"Iceland\", \"Switzerland\", \"Finland\", \"Netherlands\", \"Canada\", \"New Zealand\", \"Sweden\", \"Australia\", \"Israel\", \"Costa Rica\", \"Austria\", \"United States\", \"Ireland\", \"Germany\", \"Belgium\", \"Luxembourg\", \"United Kingdom\", \"Chile\", \"United Arab Emirates\", \"Brazil\", \"Czech Republic\", \"Argentina\", \"Mexico\", \"Singapore\", \"Malta\", \"Uruguay\", \"Guatemala\", \"Panama\", \"France\", \"Thailand\", \"Taiwan Province of China\", \"Spain\", \"Qatar\", \"Colombia\", \"Saudi Arabia\", \"Trinidad and Tobago\", \"Kuwait\", \"Slovakia\", \"Bahrain\", \"Malaysia\", \"Nicaragua\", \"Ecuador\", \"El Salvador\", \"Poland\", \"Uzbekistan\", \"Italy\", \"Russia\", \"Belize\", \"Japan\", \"Lithuania\", \"Algeria\", \"Latvia\", \"South Korea\", \"Moldova\", \"Romania\", \"Bolivia\", \"Turkmenistan\", \"Kazakhstan\", \"North Cyprus\", \"Slovenia\", \"Peru\", \"Mauritius\", \"Cyprus\", \"Estonia\", \"Belarus\", \"Libya\", \"Turkey\", \"Paraguay\", \"Hong Kong S.A.R., China\", \"Philippines\", \"Serbia\", \"Jordan\", \"Hungary\", \"Jamaica\", \"Croatia\", \"Kosovo\", \"China\", \"Pakistan\", \"Indonesia\", \"Venezuela\", \"Montenegro\", \"Morocco\", \"Azerbaijan\", \"Dominican Republic\", \"Greece\", \"Lebanon\", \"Portugal\", \"Bosnia and Herzegovina\", \"Honduras\", \"Macedonia\", \"Somalia\", \"Vietnam\", \"Nigeria\", \"Tajikistan\", \"Bhutan\", \"Kyrgyzstan\", \"Nepal\", \"Mongolia\", \"South Africa\", \"Tunisia\", \"Palestinian Territories\", \"Egypt\", \"Bulgaria\", \"Sierra Leone\", \"Cameroon\", \"Iran\", \"Albania\", \"Bangladesh\", \"Namibia\", \"Kenya\", \"Mozambique\", \"Myanmar\", \"Senegal\", \"Zambia\", \"Iraq\", \"Gabon\", \"Ethiopia\", \"Sri Lanka\", \"Armenia\", \"India\", \"Mauritania\", \"Congo (Brazzaville)\", \"Georgia\", \"Congo (Kinshasa)\", \"Mali\", \"Ivory Coast\", \"Cambodia\", \"Sudan\", \"Ghana\", \"Ukraine\", \"Uganda\", \"Burkina Faso\", \"Niger\", \"Malawi\", \"Chad\", \"Zimbabwe\", \"Lesotho\", \"Angola\", \"Afghanistan\", \"Botswana\", \"Benin\", \"Madagascar\", \"Haiti\", \"Yemen\", \"South Sudan\", \"Liberia\", \"Guinea\", \"Togo\", \"Rwanda\", \"Syria\", \"Tanzania\", \"Burundi\", \"Central African Republic\"], \"type\": \"choropleth\", \"uid\": \"ffeca7f0-3e7c-4077-9695-2c6921ff8ffa\", \"z\": [1, 1, 1, 1, 1, 1, 1, 1, 1, 1, 1, 1, 1, 1, 1, 1, 1, 1, 1, 1, 1, 1, 1, 1, 1, 1, 1, 1, 1, 1, 1, 1, 1, 1, 1, 1, 1, 1, 1, 1, 1, 1, 1, 1, 1, 1, 1, 1, 1, 1, 1, 1, 1, 1, 1, 1, 1, 1, 1, 1, 1, 1, 1, 1, 1, 1, 1, 1, 1, 1, 1, 1, 1, 0, 1, 0, 0, 0, 0, 0, 0, 0, 0, 0, 0, 0, 0, 0, 0, 0, 0, 0, 0, 0, 0, 0, 0, 0, 0, 0, 0, 0, 0, 0, 0, 0, 0, 0, 0, 0, 0, 0, 0, 0, 0, 0, 0, 0, 0, 0, 0, 0, 0, 0, 0, 0, 0, 0, 0, 0, 0, 0, 0, 0, 0, 0, 0, 0, 0, 0, 0, 0, 0, 0, 0, 0, 0, 0, 0, 0, 0, 0, 0, 0, 0]}],\n",
       "                        {\"geo\": {\"projection\": {\"type\": \"mercator\"}, \"showframe\": false}, \"title\": {\"text\": \"Pengkelompokkan negara berdasarkan K-Means Clustering\"}},\n",
       "                        {\"showLink\": false, \"linkText\": \"Export to plot.ly\", \"plotlyServerURL\": \"https://plot.ly\", \"responsive\": true}\n",
       "                    ).then(function(){\n",
       "                            \n",
       "var gd = document.getElementById('af13720f-3c20-4839-9c4a-e50af76d1d85');\n",
       "var x = new MutationObserver(function (mutations, observer) {{\n",
       "        var display = window.getComputedStyle(gd).display;\n",
       "        if (!display || display === 'none') {{\n",
       "            console.log([gd, 'removed!']);\n",
       "            Plotly.purge(gd);\n",
       "            observer.disconnect();\n",
       "        }}\n",
       "}});\n",
       "\n",
       "// Listen for the removal of the full notebook cells\n",
       "var notebookContainer = gd.closest('#notebook-container');\n",
       "if (notebookContainer) {{\n",
       "    x.observe(notebookContainer, {childList: true});\n",
       "}}\n",
       "\n",
       "// Listen for the clearing of the current output cell\n",
       "var outputEl = gd.closest('.output');\n",
       "if (outputEl) {{\n",
       "    x.observe(outputEl, {childList: true});\n",
       "}}\n",
       "\n",
       "                        })\n",
       "                };\n",
       "                });\n",
       "            </script>\n",
       "        </div>"
      ]
     },
     "metadata": {},
     "output_type": "display_data"
    }
   ],
   "source": [
    "data = [dict(type='choropleth',\n",
    "             locations = wh['Country'],\n",
    "             locationmode = 'country names',\n",
    "             z = wh1['kmeans'],\n",
    "             text = wh['Country'],\n",
    "             colorbar = {'title':'Cluster Group'},\n",
    "             colorscale = 'Viridis')]\n",
    "layout = dict(title='Pengkelompokkan negara berdasarkan K-Means Clustering',\n",
    "              geo=dict(showframe = False,\n",
    "                       projection = {'type':'mercator'}))\n",
    "map1 = go.Figure(data = data, layout=layout)\n",
    "iplot(map1)"
   ]
  },
  {
   "cell_type": "code",
   "execution_count": 18,
   "metadata": {
    "extensions": {
     "jupyter_dashboards": {
      "version": 1,
      "views": {
       "grid_default": {},
       "report_default": {
        "hidden": false
       }
      }
     }
    },
    "slideshow": {
     "slide_type": "slide"
    }
   },
   "outputs": [
    {
     "data": {
      "application/vnd.plotly.v1+json": {
       "config": {
        "linkText": "Export to plot.ly",
        "plotlyServerURL": "https://plot.ly",
        "showLink": false
       },
       "data": [
        {
         "colorbar": {
          "title": {
           "text": "Cluster Group"
          }
         },
         "colorscale": "Viridis",
         "locationmode": "country names",
         "locations": [
          "Norway",
          "Denmark",
          "Iceland",
          "Switzerland",
          "Finland",
          "Netherlands",
          "Canada",
          "New Zealand",
          "Sweden",
          "Australia",
          "Israel",
          "Costa Rica",
          "Austria",
          "United States",
          "Ireland",
          "Germany",
          "Belgium",
          "Luxembourg",
          "United Kingdom",
          "Chile",
          "United Arab Emirates",
          "Brazil",
          "Czech Republic",
          "Argentina",
          "Mexico",
          "Singapore",
          "Malta",
          "Uruguay",
          "Guatemala",
          "Panama",
          "France",
          "Thailand",
          "Taiwan Province of China",
          "Spain",
          "Qatar",
          "Colombia",
          "Saudi Arabia",
          "Trinidad and Tobago",
          "Kuwait",
          "Slovakia",
          "Bahrain",
          "Malaysia",
          "Nicaragua",
          "Ecuador",
          "El Salvador",
          "Poland",
          "Uzbekistan",
          "Italy",
          "Russia",
          "Belize",
          "Japan",
          "Lithuania",
          "Algeria",
          "Latvia",
          "South Korea",
          "Moldova",
          "Romania",
          "Bolivia",
          "Turkmenistan",
          "Kazakhstan",
          "North Cyprus",
          "Slovenia",
          "Peru",
          "Mauritius",
          "Cyprus",
          "Estonia",
          "Belarus",
          "Libya",
          "Turkey",
          "Paraguay",
          "Hong Kong S.A.R., China",
          "Philippines",
          "Serbia",
          "Jordan",
          "Hungary",
          "Jamaica",
          "Croatia",
          "Kosovo",
          "China",
          "Pakistan",
          "Indonesia",
          "Venezuela",
          "Montenegro",
          "Morocco",
          "Azerbaijan",
          "Dominican Republic",
          "Greece",
          "Lebanon",
          "Portugal",
          "Bosnia and Herzegovina",
          "Honduras",
          "Macedonia",
          "Somalia",
          "Vietnam",
          "Nigeria",
          "Tajikistan",
          "Bhutan",
          "Kyrgyzstan",
          "Nepal",
          "Mongolia",
          "South Africa",
          "Tunisia",
          "Palestinian Territories",
          "Egypt",
          "Bulgaria",
          "Sierra Leone",
          "Cameroon",
          "Iran",
          "Albania",
          "Bangladesh",
          "Namibia",
          "Kenya",
          "Mozambique",
          "Myanmar",
          "Senegal",
          "Zambia",
          "Iraq",
          "Gabon",
          "Ethiopia",
          "Sri Lanka",
          "Armenia",
          "India",
          "Mauritania",
          "Congo (Brazzaville)",
          "Georgia",
          "Congo (Kinshasa)",
          "Mali",
          "Ivory Coast",
          "Cambodia",
          "Sudan",
          "Ghana",
          "Ukraine",
          "Uganda",
          "Burkina Faso",
          "Niger",
          "Malawi",
          "Chad",
          "Zimbabwe",
          "Lesotho",
          "Angola",
          "Afghanistan",
          "Botswana",
          "Benin",
          "Madagascar",
          "Haiti",
          "Yemen",
          "South Sudan",
          "Liberia",
          "Guinea",
          "Togo",
          "Rwanda",
          "Syria",
          "Tanzania",
          "Burundi",
          "Central African Republic"
         ],
         "text": [
          "Norway",
          "Denmark",
          "Iceland",
          "Switzerland",
          "Finland",
          "Netherlands",
          "Canada",
          "New Zealand",
          "Sweden",
          "Australia",
          "Israel",
          "Costa Rica",
          "Austria",
          "United States",
          "Ireland",
          "Germany",
          "Belgium",
          "Luxembourg",
          "United Kingdom",
          "Chile",
          "United Arab Emirates",
          "Brazil",
          "Czech Republic",
          "Argentina",
          "Mexico",
          "Singapore",
          "Malta",
          "Uruguay",
          "Guatemala",
          "Panama",
          "France",
          "Thailand",
          "Taiwan Province of China",
          "Spain",
          "Qatar",
          "Colombia",
          "Saudi Arabia",
          "Trinidad and Tobago",
          "Kuwait",
          "Slovakia",
          "Bahrain",
          "Malaysia",
          "Nicaragua",
          "Ecuador",
          "El Salvador",
          "Poland",
          "Uzbekistan",
          "Italy",
          "Russia",
          "Belize",
          "Japan",
          "Lithuania",
          "Algeria",
          "Latvia",
          "South Korea",
          "Moldova",
          "Romania",
          "Bolivia",
          "Turkmenistan",
          "Kazakhstan",
          "North Cyprus",
          "Slovenia",
          "Peru",
          "Mauritius",
          "Cyprus",
          "Estonia",
          "Belarus",
          "Libya",
          "Turkey",
          "Paraguay",
          "Hong Kong S.A.R., China",
          "Philippines",
          "Serbia",
          "Jordan",
          "Hungary",
          "Jamaica",
          "Croatia",
          "Kosovo",
          "China",
          "Pakistan",
          "Indonesia",
          "Venezuela",
          "Montenegro",
          "Morocco",
          "Azerbaijan",
          "Dominican Republic",
          "Greece",
          "Lebanon",
          "Portugal",
          "Bosnia and Herzegovina",
          "Honduras",
          "Macedonia",
          "Somalia",
          "Vietnam",
          "Nigeria",
          "Tajikistan",
          "Bhutan",
          "Kyrgyzstan",
          "Nepal",
          "Mongolia",
          "South Africa",
          "Tunisia",
          "Palestinian Territories",
          "Egypt",
          "Bulgaria",
          "Sierra Leone",
          "Cameroon",
          "Iran",
          "Albania",
          "Bangladesh",
          "Namibia",
          "Kenya",
          "Mozambique",
          "Myanmar",
          "Senegal",
          "Zambia",
          "Iraq",
          "Gabon",
          "Ethiopia",
          "Sri Lanka",
          "Armenia",
          "India",
          "Mauritania",
          "Congo (Brazzaville)",
          "Georgia",
          "Congo (Kinshasa)",
          "Mali",
          "Ivory Coast",
          "Cambodia",
          "Sudan",
          "Ghana",
          "Ukraine",
          "Uganda",
          "Burkina Faso",
          "Niger",
          "Malawi",
          "Chad",
          "Zimbabwe",
          "Lesotho",
          "Angola",
          "Afghanistan",
          "Botswana",
          "Benin",
          "Madagascar",
          "Haiti",
          "Yemen",
          "South Sudan",
          "Liberia",
          "Guinea",
          "Togo",
          "Rwanda",
          "Syria",
          "Tanzania",
          "Burundi",
          "Central African Republic"
         ],
         "type": "choropleth",
         "uid": "979896d6-1bb6-412d-8743-b5fc972f7175",
         "z": [
          1,
          1,
          1,
          1,
          1,
          1,
          1,
          1,
          1,
          1,
          1,
          1,
          1,
          1,
          1,
          1,
          1,
          1,
          1,
          1,
          1,
          1,
          1,
          1,
          1,
          1,
          1,
          1,
          1,
          1,
          1,
          1,
          1,
          1,
          1,
          1,
          1,
          1,
          1,
          1,
          1,
          1,
          1,
          1,
          1,
          1,
          1,
          1,
          1,
          1,
          1,
          1,
          1,
          1,
          1,
          1,
          1,
          1,
          1,
          1,
          1,
          1,
          1,
          1,
          1,
          1,
          1,
          1,
          1,
          1,
          1,
          1,
          1,
          0,
          1,
          0,
          0,
          0,
          0,
          0,
          0,
          0,
          0,
          0,
          0,
          0,
          0,
          0,
          0,
          0,
          0,
          0,
          0,
          0,
          0,
          0,
          0,
          0,
          0,
          0,
          0,
          0,
          0,
          0,
          0,
          0,
          0,
          0,
          0,
          0,
          0,
          0,
          0,
          0,
          0,
          0,
          0,
          0,
          0,
          0,
          0,
          0,
          0,
          0,
          0,
          0,
          0,
          0,
          0,
          0,
          0,
          0,
          0,
          0,
          0,
          0,
          0,
          0,
          0,
          0,
          0,
          0,
          0,
          0,
          0,
          0,
          0,
          0,
          0,
          0,
          0,
          0,
          0,
          0,
          0
         ]
        }
       ],
       "layout": {
        "geo": {
         "projection": {
          "type": "mercator"
         },
         "showframe": false
        },
        "title": {
         "text": "Pengkelompokkan negara berdasarkan Agglomerative Clustering"
        }
       }
      },
      "text/html": [
       "<div>\n",
       "        \n",
       "        \n",
       "            <div id=\"2f81e4ea-4cc1-422e-bebd-a3967d2e2341\" class=\"plotly-graph-div\" style=\"height:525px; width:100%;\"></div>\n",
       "            <script type=\"text/javascript\">\n",
       "                require([\"plotly\"], function(Plotly) {\n",
       "                    window.PLOTLYENV=window.PLOTLYENV || {};\n",
       "                    window.PLOTLYENV.BASE_URL='https://plot.ly';\n",
       "                    \n",
       "                if (document.getElementById(\"2f81e4ea-4cc1-422e-bebd-a3967d2e2341\")) {\n",
       "                    Plotly.newPlot(\n",
       "                        '2f81e4ea-4cc1-422e-bebd-a3967d2e2341',\n",
       "                        [{\"colorbar\": {\"title\": {\"text\": \"Cluster Group\"}}, \"colorscale\": \"Viridis\", \"locationmode\": \"country names\", \"locations\": [\"Norway\", \"Denmark\", \"Iceland\", \"Switzerland\", \"Finland\", \"Netherlands\", \"Canada\", \"New Zealand\", \"Sweden\", \"Australia\", \"Israel\", \"Costa Rica\", \"Austria\", \"United States\", \"Ireland\", \"Germany\", \"Belgium\", \"Luxembourg\", \"United Kingdom\", \"Chile\", \"United Arab Emirates\", \"Brazil\", \"Czech Republic\", \"Argentina\", \"Mexico\", \"Singapore\", \"Malta\", \"Uruguay\", \"Guatemala\", \"Panama\", \"France\", \"Thailand\", \"Taiwan Province of China\", \"Spain\", \"Qatar\", \"Colombia\", \"Saudi Arabia\", \"Trinidad and Tobago\", \"Kuwait\", \"Slovakia\", \"Bahrain\", \"Malaysia\", \"Nicaragua\", \"Ecuador\", \"El Salvador\", \"Poland\", \"Uzbekistan\", \"Italy\", \"Russia\", \"Belize\", \"Japan\", \"Lithuania\", \"Algeria\", \"Latvia\", \"South Korea\", \"Moldova\", \"Romania\", \"Bolivia\", \"Turkmenistan\", \"Kazakhstan\", \"North Cyprus\", \"Slovenia\", \"Peru\", \"Mauritius\", \"Cyprus\", \"Estonia\", \"Belarus\", \"Libya\", \"Turkey\", \"Paraguay\", \"Hong Kong S.A.R., China\", \"Philippines\", \"Serbia\", \"Jordan\", \"Hungary\", \"Jamaica\", \"Croatia\", \"Kosovo\", \"China\", \"Pakistan\", \"Indonesia\", \"Venezuela\", \"Montenegro\", \"Morocco\", \"Azerbaijan\", \"Dominican Republic\", \"Greece\", \"Lebanon\", \"Portugal\", \"Bosnia and Herzegovina\", \"Honduras\", \"Macedonia\", \"Somalia\", \"Vietnam\", \"Nigeria\", \"Tajikistan\", \"Bhutan\", \"Kyrgyzstan\", \"Nepal\", \"Mongolia\", \"South Africa\", \"Tunisia\", \"Palestinian Territories\", \"Egypt\", \"Bulgaria\", \"Sierra Leone\", \"Cameroon\", \"Iran\", \"Albania\", \"Bangladesh\", \"Namibia\", \"Kenya\", \"Mozambique\", \"Myanmar\", \"Senegal\", \"Zambia\", \"Iraq\", \"Gabon\", \"Ethiopia\", \"Sri Lanka\", \"Armenia\", \"India\", \"Mauritania\", \"Congo (Brazzaville)\", \"Georgia\", \"Congo (Kinshasa)\", \"Mali\", \"Ivory Coast\", \"Cambodia\", \"Sudan\", \"Ghana\", \"Ukraine\", \"Uganda\", \"Burkina Faso\", \"Niger\", \"Malawi\", \"Chad\", \"Zimbabwe\", \"Lesotho\", \"Angola\", \"Afghanistan\", \"Botswana\", \"Benin\", \"Madagascar\", \"Haiti\", \"Yemen\", \"South Sudan\", \"Liberia\", \"Guinea\", \"Togo\", \"Rwanda\", \"Syria\", \"Tanzania\", \"Burundi\", \"Central African Republic\"], \"text\": [\"Norway\", \"Denmark\", \"Iceland\", \"Switzerland\", \"Finland\", \"Netherlands\", \"Canada\", \"New Zealand\", \"Sweden\", \"Australia\", \"Israel\", \"Costa Rica\", \"Austria\", \"United States\", \"Ireland\", \"Germany\", \"Belgium\", \"Luxembourg\", \"United Kingdom\", \"Chile\", \"United Arab Emirates\", \"Brazil\", \"Czech Republic\", \"Argentina\", \"Mexico\", \"Singapore\", \"Malta\", \"Uruguay\", \"Guatemala\", \"Panama\", \"France\", \"Thailand\", \"Taiwan Province of China\", \"Spain\", \"Qatar\", \"Colombia\", \"Saudi Arabia\", \"Trinidad and Tobago\", \"Kuwait\", \"Slovakia\", \"Bahrain\", \"Malaysia\", \"Nicaragua\", \"Ecuador\", \"El Salvador\", \"Poland\", \"Uzbekistan\", \"Italy\", \"Russia\", \"Belize\", \"Japan\", \"Lithuania\", \"Algeria\", \"Latvia\", \"South Korea\", \"Moldova\", \"Romania\", \"Bolivia\", \"Turkmenistan\", \"Kazakhstan\", \"North Cyprus\", \"Slovenia\", \"Peru\", \"Mauritius\", \"Cyprus\", \"Estonia\", \"Belarus\", \"Libya\", \"Turkey\", \"Paraguay\", \"Hong Kong S.A.R., China\", \"Philippines\", \"Serbia\", \"Jordan\", \"Hungary\", \"Jamaica\", \"Croatia\", \"Kosovo\", \"China\", \"Pakistan\", \"Indonesia\", \"Venezuela\", \"Montenegro\", \"Morocco\", \"Azerbaijan\", \"Dominican Republic\", \"Greece\", \"Lebanon\", \"Portugal\", \"Bosnia and Herzegovina\", \"Honduras\", \"Macedonia\", \"Somalia\", \"Vietnam\", \"Nigeria\", \"Tajikistan\", \"Bhutan\", \"Kyrgyzstan\", \"Nepal\", \"Mongolia\", \"South Africa\", \"Tunisia\", \"Palestinian Territories\", \"Egypt\", \"Bulgaria\", \"Sierra Leone\", \"Cameroon\", \"Iran\", \"Albania\", \"Bangladesh\", \"Namibia\", \"Kenya\", \"Mozambique\", \"Myanmar\", \"Senegal\", \"Zambia\", \"Iraq\", \"Gabon\", \"Ethiopia\", \"Sri Lanka\", \"Armenia\", \"India\", \"Mauritania\", \"Congo (Brazzaville)\", \"Georgia\", \"Congo (Kinshasa)\", \"Mali\", \"Ivory Coast\", \"Cambodia\", \"Sudan\", \"Ghana\", \"Ukraine\", \"Uganda\", \"Burkina Faso\", \"Niger\", \"Malawi\", \"Chad\", \"Zimbabwe\", \"Lesotho\", \"Angola\", \"Afghanistan\", \"Botswana\", \"Benin\", \"Madagascar\", \"Haiti\", \"Yemen\", \"South Sudan\", \"Liberia\", \"Guinea\", \"Togo\", \"Rwanda\", \"Syria\", \"Tanzania\", \"Burundi\", \"Central African Republic\"], \"type\": \"choropleth\", \"uid\": \"979896d6-1bb6-412d-8743-b5fc972f7175\", \"z\": [1, 1, 1, 1, 1, 1, 1, 1, 1, 1, 1, 1, 1, 1, 1, 1, 1, 1, 1, 1, 1, 1, 1, 1, 1, 1, 1, 1, 1, 1, 1, 1, 1, 1, 1, 1, 1, 1, 1, 1, 1, 1, 1, 1, 1, 1, 1, 1, 1, 1, 1, 1, 1, 1, 1, 1, 1, 1, 1, 1, 1, 1, 1, 1, 1, 1, 1, 1, 1, 1, 1, 1, 1, 0, 1, 0, 0, 0, 0, 0, 0, 0, 0, 0, 0, 0, 0, 0, 0, 0, 0, 0, 0, 0, 0, 0, 0, 0, 0, 0, 0, 0, 0, 0, 0, 0, 0, 0, 0, 0, 0, 0, 0, 0, 0, 0, 0, 0, 0, 0, 0, 0, 0, 0, 0, 0, 0, 0, 0, 0, 0, 0, 0, 0, 0, 0, 0, 0, 0, 0, 0, 0, 0, 0, 0, 0, 0, 0, 0, 0, 0, 0, 0, 0, 0]}],\n",
       "                        {\"geo\": {\"projection\": {\"type\": \"mercator\"}, \"showframe\": false}, \"title\": {\"text\": \"Pengkelompokkan negara berdasarkan Agglomerative Clustering\"}},\n",
       "                        {\"showLink\": false, \"linkText\": \"Export to plot.ly\", \"plotlyServerURL\": \"https://plot.ly\", \"responsive\": true}\n",
       "                    ).then(function(){\n",
       "                            \n",
       "var gd = document.getElementById('2f81e4ea-4cc1-422e-bebd-a3967d2e2341');\n",
       "var x = new MutationObserver(function (mutations, observer) {{\n",
       "        var display = window.getComputedStyle(gd).display;\n",
       "        if (!display || display === 'none') {{\n",
       "            console.log([gd, 'removed!']);\n",
       "            Plotly.purge(gd);\n",
       "            observer.disconnect();\n",
       "        }}\n",
       "}});\n",
       "\n",
       "// Listen for the removal of the full notebook cells\n",
       "var notebookContainer = gd.closest('#notebook-container');\n",
       "if (notebookContainer) {{\n",
       "    x.observe(notebookContainer, {childList: true});\n",
       "}}\n",
       "\n",
       "// Listen for the clearing of the current output cell\n",
       "var outputEl = gd.closest('.output');\n",
       "if (outputEl) {{\n",
       "    x.observe(outputEl, {childList: true});\n",
       "}}\n",
       "\n",
       "                        })\n",
       "                };\n",
       "                });\n",
       "            </script>\n",
       "        </div>"
      ]
     },
     "metadata": {},
     "output_type": "display_data"
    }
   ],
   "source": [
    "data = [dict(type='choropleth',\n",
    "             locations = wh['Country'],\n",
    "             locationmode = 'country names',\n",
    "             z = wh1['agglomerative'],\n",
    "             text = wh['Country'],\n",
    "             colorbar = {'title':'Cluster Group'},\n",
    "            colorscale = 'Viridis')]\n",
    "layout = dict(title='Pengkelompokkan negara berdasarkan Agglomerative Clustering',\n",
    "              geo=dict(showframe = False, \n",
    "                       projection = {'type':'mercator'}))\n",
    "map2 = dict(data=data, layout=layout)\n",
    "iplot(map2)"
   ]
  },
  {
   "cell_type": "code",
   "execution_count": 19,
   "metadata": {
    "extensions": {
     "jupyter_dashboards": {
      "version": 1,
      "views": {
       "grid_default": {},
       "report_default": {
        "hidden": false
       }
      }
     }
    },
    "slideshow": {
     "slide_type": "slide"
    }
   },
   "outputs": [
    {
     "data": {
      "application/vnd.plotly.v1+json": {
       "config": {
        "linkText": "Export to plot.ly",
        "plotlyServerURL": "https://plot.ly",
        "showLink": false
       },
       "data": [
        {
         "colorbar": {
          "title": {
           "text": "Cluster Group"
          }
         },
         "colorscale": "Viridis",
         "locationmode": "country names",
         "locations": [
          "Norway",
          "Denmark",
          "Iceland",
          "Switzerland",
          "Finland",
          "Netherlands",
          "Canada",
          "New Zealand",
          "Sweden",
          "Australia",
          "Israel",
          "Costa Rica",
          "Austria",
          "United States",
          "Ireland",
          "Germany",
          "Belgium",
          "Luxembourg",
          "United Kingdom",
          "Chile",
          "United Arab Emirates",
          "Brazil",
          "Czech Republic",
          "Argentina",
          "Mexico",
          "Singapore",
          "Malta",
          "Uruguay",
          "Guatemala",
          "Panama",
          "France",
          "Thailand",
          "Taiwan Province of China",
          "Spain",
          "Qatar",
          "Colombia",
          "Saudi Arabia",
          "Trinidad and Tobago",
          "Kuwait",
          "Slovakia",
          "Bahrain",
          "Malaysia",
          "Nicaragua",
          "Ecuador",
          "El Salvador",
          "Poland",
          "Uzbekistan",
          "Italy",
          "Russia",
          "Belize",
          "Japan",
          "Lithuania",
          "Algeria",
          "Latvia",
          "South Korea",
          "Moldova",
          "Romania",
          "Bolivia",
          "Turkmenistan",
          "Kazakhstan",
          "North Cyprus",
          "Slovenia",
          "Peru",
          "Mauritius",
          "Cyprus",
          "Estonia",
          "Belarus",
          "Libya",
          "Turkey",
          "Paraguay",
          "Hong Kong S.A.R., China",
          "Philippines",
          "Serbia",
          "Jordan",
          "Hungary",
          "Jamaica",
          "Croatia",
          "Kosovo",
          "China",
          "Pakistan",
          "Indonesia",
          "Venezuela",
          "Montenegro",
          "Morocco",
          "Azerbaijan",
          "Dominican Republic",
          "Greece",
          "Lebanon",
          "Portugal",
          "Bosnia and Herzegovina",
          "Honduras",
          "Macedonia",
          "Somalia",
          "Vietnam",
          "Nigeria",
          "Tajikistan",
          "Bhutan",
          "Kyrgyzstan",
          "Nepal",
          "Mongolia",
          "South Africa",
          "Tunisia",
          "Palestinian Territories",
          "Egypt",
          "Bulgaria",
          "Sierra Leone",
          "Cameroon",
          "Iran",
          "Albania",
          "Bangladesh",
          "Namibia",
          "Kenya",
          "Mozambique",
          "Myanmar",
          "Senegal",
          "Zambia",
          "Iraq",
          "Gabon",
          "Ethiopia",
          "Sri Lanka",
          "Armenia",
          "India",
          "Mauritania",
          "Congo (Brazzaville)",
          "Georgia",
          "Congo (Kinshasa)",
          "Mali",
          "Ivory Coast",
          "Cambodia",
          "Sudan",
          "Ghana",
          "Ukraine",
          "Uganda",
          "Burkina Faso",
          "Niger",
          "Malawi",
          "Chad",
          "Zimbabwe",
          "Lesotho",
          "Angola",
          "Afghanistan",
          "Botswana",
          "Benin",
          "Madagascar",
          "Haiti",
          "Yemen",
          "South Sudan",
          "Liberia",
          "Guinea",
          "Togo",
          "Rwanda",
          "Syria",
          "Tanzania",
          "Burundi",
          "Central African Republic"
         ],
         "text": [
          "Norway",
          "Denmark",
          "Iceland",
          "Switzerland",
          "Finland",
          "Netherlands",
          "Canada",
          "New Zealand",
          "Sweden",
          "Australia",
          "Israel",
          "Costa Rica",
          "Austria",
          "United States",
          "Ireland",
          "Germany",
          "Belgium",
          "Luxembourg",
          "United Kingdom",
          "Chile",
          "United Arab Emirates",
          "Brazil",
          "Czech Republic",
          "Argentina",
          "Mexico",
          "Singapore",
          "Malta",
          "Uruguay",
          "Guatemala",
          "Panama",
          "France",
          "Thailand",
          "Taiwan Province of China",
          "Spain",
          "Qatar",
          "Colombia",
          "Saudi Arabia",
          "Trinidad and Tobago",
          "Kuwait",
          "Slovakia",
          "Bahrain",
          "Malaysia",
          "Nicaragua",
          "Ecuador",
          "El Salvador",
          "Poland",
          "Uzbekistan",
          "Italy",
          "Russia",
          "Belize",
          "Japan",
          "Lithuania",
          "Algeria",
          "Latvia",
          "South Korea",
          "Moldova",
          "Romania",
          "Bolivia",
          "Turkmenistan",
          "Kazakhstan",
          "North Cyprus",
          "Slovenia",
          "Peru",
          "Mauritius",
          "Cyprus",
          "Estonia",
          "Belarus",
          "Libya",
          "Turkey",
          "Paraguay",
          "Hong Kong S.A.R., China",
          "Philippines",
          "Serbia",
          "Jordan",
          "Hungary",
          "Jamaica",
          "Croatia",
          "Kosovo",
          "China",
          "Pakistan",
          "Indonesia",
          "Venezuela",
          "Montenegro",
          "Morocco",
          "Azerbaijan",
          "Dominican Republic",
          "Greece",
          "Lebanon",
          "Portugal",
          "Bosnia and Herzegovina",
          "Honduras",
          "Macedonia",
          "Somalia",
          "Vietnam",
          "Nigeria",
          "Tajikistan",
          "Bhutan",
          "Kyrgyzstan",
          "Nepal",
          "Mongolia",
          "South Africa",
          "Tunisia",
          "Palestinian Territories",
          "Egypt",
          "Bulgaria",
          "Sierra Leone",
          "Cameroon",
          "Iran",
          "Albania",
          "Bangladesh",
          "Namibia",
          "Kenya",
          "Mozambique",
          "Myanmar",
          "Senegal",
          "Zambia",
          "Iraq",
          "Gabon",
          "Ethiopia",
          "Sri Lanka",
          "Armenia",
          "India",
          "Mauritania",
          "Congo (Brazzaville)",
          "Georgia",
          "Congo (Kinshasa)",
          "Mali",
          "Ivory Coast",
          "Cambodia",
          "Sudan",
          "Ghana",
          "Ukraine",
          "Uganda",
          "Burkina Faso",
          "Niger",
          "Malawi",
          "Chad",
          "Zimbabwe",
          "Lesotho",
          "Angola",
          "Afghanistan",
          "Botswana",
          "Benin",
          "Madagascar",
          "Haiti",
          "Yemen",
          "South Sudan",
          "Liberia",
          "Guinea",
          "Togo",
          "Rwanda",
          "Syria",
          "Tanzania",
          "Burundi",
          "Central African Republic"
         ],
         "type": "choropleth",
         "uid": "72660204-8218-4f05-ba56-ecce6160caac",
         "z": [
          0,
          0,
          0,
          0,
          0,
          0,
          0,
          0,
          0,
          0,
          0,
          2,
          0,
          0,
          1,
          0,
          0,
          1,
          1,
          2,
          1,
          2,
          2,
          2,
          2,
          1,
          1,
          2,
          2,
          2,
          1,
          1,
          1,
          1,
          1,
          2,
          3,
          3,
          3,
          3,
          3,
          3,
          2,
          2,
          2,
          3,
          3,
          3,
          3,
          2,
          3,
          3,
          2,
          3,
          3,
          2,
          3,
          2,
          3,
          3,
          3,
          3,
          3,
          3,
          3,
          3,
          3,
          3,
          3,
          3,
          3,
          3,
          3,
          4,
          3,
          4,
          4,
          4,
          4,
          5,
          4,
          4,
          4,
          5,
          4,
          4,
          4,
          4,
          4,
          4,
          4,
          4,
          5,
          4,
          5,
          4,
          4,
          4,
          5,
          4,
          4,
          4,
          4,
          6,
          6,
          5,
          5,
          6,
          6,
          5,
          6,
          7,
          5,
          7,
          7,
          5,
          6,
          6,
          5,
          6,
          6,
          6,
          7,
          7,
          6,
          7,
          7,
          7,
          6,
          7,
          7,
          6,
          7,
          7,
          7,
          8,
          7,
          7,
          7,
          7,
          8,
          9,
          8,
          7,
          8,
          7,
          8,
          8,
          8,
          8,
          9,
          9,
          9,
          8,
          8
         ]
        }
       ],
       "layout": {
        "geo": {
         "projection": {
          "type": "mercator"
         },
         "showframe": false
        },
        "title": {
         "text": "Pengkelompokkan negara Affinity Clustering"
        }
       }
      },
      "text/html": [
       "<div>\n",
       "        \n",
       "        \n",
       "            <div id=\"c1dc7ece-22af-4914-bbbd-0ae782e4f3a9\" class=\"plotly-graph-div\" style=\"height:525px; width:100%;\"></div>\n",
       "            <script type=\"text/javascript\">\n",
       "                require([\"plotly\"], function(Plotly) {\n",
       "                    window.PLOTLYENV=window.PLOTLYENV || {};\n",
       "                    window.PLOTLYENV.BASE_URL='https://plot.ly';\n",
       "                    \n",
       "                if (document.getElementById(\"c1dc7ece-22af-4914-bbbd-0ae782e4f3a9\")) {\n",
       "                    Plotly.newPlot(\n",
       "                        'c1dc7ece-22af-4914-bbbd-0ae782e4f3a9',\n",
       "                        [{\"colorbar\": {\"title\": {\"text\": \"Cluster Group\"}}, \"colorscale\": \"Viridis\", \"locationmode\": \"country names\", \"locations\": [\"Norway\", \"Denmark\", \"Iceland\", \"Switzerland\", \"Finland\", \"Netherlands\", \"Canada\", \"New Zealand\", \"Sweden\", \"Australia\", \"Israel\", \"Costa Rica\", \"Austria\", \"United States\", \"Ireland\", \"Germany\", \"Belgium\", \"Luxembourg\", \"United Kingdom\", \"Chile\", \"United Arab Emirates\", \"Brazil\", \"Czech Republic\", \"Argentina\", \"Mexico\", \"Singapore\", \"Malta\", \"Uruguay\", \"Guatemala\", \"Panama\", \"France\", \"Thailand\", \"Taiwan Province of China\", \"Spain\", \"Qatar\", \"Colombia\", \"Saudi Arabia\", \"Trinidad and Tobago\", \"Kuwait\", \"Slovakia\", \"Bahrain\", \"Malaysia\", \"Nicaragua\", \"Ecuador\", \"El Salvador\", \"Poland\", \"Uzbekistan\", \"Italy\", \"Russia\", \"Belize\", \"Japan\", \"Lithuania\", \"Algeria\", \"Latvia\", \"South Korea\", \"Moldova\", \"Romania\", \"Bolivia\", \"Turkmenistan\", \"Kazakhstan\", \"North Cyprus\", \"Slovenia\", \"Peru\", \"Mauritius\", \"Cyprus\", \"Estonia\", \"Belarus\", \"Libya\", \"Turkey\", \"Paraguay\", \"Hong Kong S.A.R., China\", \"Philippines\", \"Serbia\", \"Jordan\", \"Hungary\", \"Jamaica\", \"Croatia\", \"Kosovo\", \"China\", \"Pakistan\", \"Indonesia\", \"Venezuela\", \"Montenegro\", \"Morocco\", \"Azerbaijan\", \"Dominican Republic\", \"Greece\", \"Lebanon\", \"Portugal\", \"Bosnia and Herzegovina\", \"Honduras\", \"Macedonia\", \"Somalia\", \"Vietnam\", \"Nigeria\", \"Tajikistan\", \"Bhutan\", \"Kyrgyzstan\", \"Nepal\", \"Mongolia\", \"South Africa\", \"Tunisia\", \"Palestinian Territories\", \"Egypt\", \"Bulgaria\", \"Sierra Leone\", \"Cameroon\", \"Iran\", \"Albania\", \"Bangladesh\", \"Namibia\", \"Kenya\", \"Mozambique\", \"Myanmar\", \"Senegal\", \"Zambia\", \"Iraq\", \"Gabon\", \"Ethiopia\", \"Sri Lanka\", \"Armenia\", \"India\", \"Mauritania\", \"Congo (Brazzaville)\", \"Georgia\", \"Congo (Kinshasa)\", \"Mali\", \"Ivory Coast\", \"Cambodia\", \"Sudan\", \"Ghana\", \"Ukraine\", \"Uganda\", \"Burkina Faso\", \"Niger\", \"Malawi\", \"Chad\", \"Zimbabwe\", \"Lesotho\", \"Angola\", \"Afghanistan\", \"Botswana\", \"Benin\", \"Madagascar\", \"Haiti\", \"Yemen\", \"South Sudan\", \"Liberia\", \"Guinea\", \"Togo\", \"Rwanda\", \"Syria\", \"Tanzania\", \"Burundi\", \"Central African Republic\"], \"text\": [\"Norway\", \"Denmark\", \"Iceland\", \"Switzerland\", \"Finland\", \"Netherlands\", \"Canada\", \"New Zealand\", \"Sweden\", \"Australia\", \"Israel\", \"Costa Rica\", \"Austria\", \"United States\", \"Ireland\", \"Germany\", \"Belgium\", \"Luxembourg\", \"United Kingdom\", \"Chile\", \"United Arab Emirates\", \"Brazil\", \"Czech Republic\", \"Argentina\", \"Mexico\", \"Singapore\", \"Malta\", \"Uruguay\", \"Guatemala\", \"Panama\", \"France\", \"Thailand\", \"Taiwan Province of China\", \"Spain\", \"Qatar\", \"Colombia\", \"Saudi Arabia\", \"Trinidad and Tobago\", \"Kuwait\", \"Slovakia\", \"Bahrain\", \"Malaysia\", \"Nicaragua\", \"Ecuador\", \"El Salvador\", \"Poland\", \"Uzbekistan\", \"Italy\", \"Russia\", \"Belize\", \"Japan\", \"Lithuania\", \"Algeria\", \"Latvia\", \"South Korea\", \"Moldova\", \"Romania\", \"Bolivia\", \"Turkmenistan\", \"Kazakhstan\", \"North Cyprus\", \"Slovenia\", \"Peru\", \"Mauritius\", \"Cyprus\", \"Estonia\", \"Belarus\", \"Libya\", \"Turkey\", \"Paraguay\", \"Hong Kong S.A.R., China\", \"Philippines\", \"Serbia\", \"Jordan\", \"Hungary\", \"Jamaica\", \"Croatia\", \"Kosovo\", \"China\", \"Pakistan\", \"Indonesia\", \"Venezuela\", \"Montenegro\", \"Morocco\", \"Azerbaijan\", \"Dominican Republic\", \"Greece\", \"Lebanon\", \"Portugal\", \"Bosnia and Herzegovina\", \"Honduras\", \"Macedonia\", \"Somalia\", \"Vietnam\", \"Nigeria\", \"Tajikistan\", \"Bhutan\", \"Kyrgyzstan\", \"Nepal\", \"Mongolia\", \"South Africa\", \"Tunisia\", \"Palestinian Territories\", \"Egypt\", \"Bulgaria\", \"Sierra Leone\", \"Cameroon\", \"Iran\", \"Albania\", \"Bangladesh\", \"Namibia\", \"Kenya\", \"Mozambique\", \"Myanmar\", \"Senegal\", \"Zambia\", \"Iraq\", \"Gabon\", \"Ethiopia\", \"Sri Lanka\", \"Armenia\", \"India\", \"Mauritania\", \"Congo (Brazzaville)\", \"Georgia\", \"Congo (Kinshasa)\", \"Mali\", \"Ivory Coast\", \"Cambodia\", \"Sudan\", \"Ghana\", \"Ukraine\", \"Uganda\", \"Burkina Faso\", \"Niger\", \"Malawi\", \"Chad\", \"Zimbabwe\", \"Lesotho\", \"Angola\", \"Afghanistan\", \"Botswana\", \"Benin\", \"Madagascar\", \"Haiti\", \"Yemen\", \"South Sudan\", \"Liberia\", \"Guinea\", \"Togo\", \"Rwanda\", \"Syria\", \"Tanzania\", \"Burundi\", \"Central African Republic\"], \"type\": \"choropleth\", \"uid\": \"72660204-8218-4f05-ba56-ecce6160caac\", \"z\": [0, 0, 0, 0, 0, 0, 0, 0, 0, 0, 0, 2, 0, 0, 1, 0, 0, 1, 1, 2, 1, 2, 2, 2, 2, 1, 1, 2, 2, 2, 1, 1, 1, 1, 1, 2, 3, 3, 3, 3, 3, 3, 2, 2, 2, 3, 3, 3, 3, 2, 3, 3, 2, 3, 3, 2, 3, 2, 3, 3, 3, 3, 3, 3, 3, 3, 3, 3, 3, 3, 3, 3, 3, 4, 3, 4, 4, 4, 4, 5, 4, 4, 4, 5, 4, 4, 4, 4, 4, 4, 4, 4, 5, 4, 5, 4, 4, 4, 5, 4, 4, 4, 4, 6, 6, 5, 5, 6, 6, 5, 6, 7, 5, 7, 7, 5, 6, 6, 5, 6, 6, 6, 7, 7, 6, 7, 7, 7, 6, 7, 7, 6, 7, 7, 7, 8, 7, 7, 7, 7, 8, 9, 8, 7, 8, 7, 8, 8, 8, 8, 9, 9, 9, 8, 8]}],\n",
       "                        {\"geo\": {\"projection\": {\"type\": \"mercator\"}, \"showframe\": false}, \"title\": {\"text\": \"Pengkelompokkan negara Affinity Clustering\"}},\n",
       "                        {\"showLink\": false, \"linkText\": \"Export to plot.ly\", \"plotlyServerURL\": \"https://plot.ly\", \"responsive\": true}\n",
       "                    ).then(function(){\n",
       "                            \n",
       "var gd = document.getElementById('c1dc7ece-22af-4914-bbbd-0ae782e4f3a9');\n",
       "var x = new MutationObserver(function (mutations, observer) {{\n",
       "        var display = window.getComputedStyle(gd).display;\n",
       "        if (!display || display === 'none') {{\n",
       "            console.log([gd, 'removed!']);\n",
       "            Plotly.purge(gd);\n",
       "            observer.disconnect();\n",
       "        }}\n",
       "}});\n",
       "\n",
       "// Listen for the removal of the full notebook cells\n",
       "var notebookContainer = gd.closest('#notebook-container');\n",
       "if (notebookContainer) {{\n",
       "    x.observe(notebookContainer, {childList: true});\n",
       "}}\n",
       "\n",
       "// Listen for the clearing of the current output cell\n",
       "var outputEl = gd.closest('.output');\n",
       "if (outputEl) {{\n",
       "    x.observe(outputEl, {childList: true});\n",
       "}}\n",
       "\n",
       "                        })\n",
       "                };\n",
       "                });\n",
       "            </script>\n",
       "        </div>"
      ]
     },
     "metadata": {},
     "output_type": "display_data"
    }
   ],
   "source": [
    "data = [dict(type='choropleth',\n",
    "             locations = wh['Country'],\n",
    "             locationmode = 'country names',\n",
    "             z = wh1['affinity'],\n",
    "             text = wh['Country'],\n",
    "             colorbar = {'title':'Cluster Group'},\n",
    "            colorscale = 'Viridis')]\n",
    "layout = dict(title='Pengkelompokkan negara Affinity Clustering',\n",
    "              geo=dict(showframe = False, projection = {'type':'mercator'}))\n",
    "map3 = dict(data=data, layout=layout)\n",
    "iplot(map3)"
   ]
  },
  {
   "cell_type": "code",
   "execution_count": 20,
   "metadata": {
    "extensions": {
     "jupyter_dashboards": {
      "version": 1,
      "views": {
       "grid_default": {},
       "report_default": {
        "hidden": false
       }
      }
     }
    },
    "slideshow": {
     "slide_type": "slide"
    }
   },
   "outputs": [
    {
     "data": {
      "application/vnd.plotly.v1+json": {
       "config": {
        "linkText": "Export to plot.ly",
        "plotlyServerURL": "https://plot.ly",
        "showLink": false
       },
       "data": [
        {
         "colorbar": {
          "title": {
           "text": "Cluster Group"
          }
         },
         "colorscale": "Viridis",
         "locationmode": "country names",
         "locations": [
          "Norway",
          "Denmark",
          "Iceland",
          "Switzerland",
          "Finland",
          "Netherlands",
          "Canada",
          "New Zealand",
          "Sweden",
          "Australia",
          "Israel",
          "Costa Rica",
          "Austria",
          "United States",
          "Ireland",
          "Germany",
          "Belgium",
          "Luxembourg",
          "United Kingdom",
          "Chile",
          "United Arab Emirates",
          "Brazil",
          "Czech Republic",
          "Argentina",
          "Mexico",
          "Singapore",
          "Malta",
          "Uruguay",
          "Guatemala",
          "Panama",
          "France",
          "Thailand",
          "Taiwan Province of China",
          "Spain",
          "Qatar",
          "Colombia",
          "Saudi Arabia",
          "Trinidad and Tobago",
          "Kuwait",
          "Slovakia",
          "Bahrain",
          "Malaysia",
          "Nicaragua",
          "Ecuador",
          "El Salvador",
          "Poland",
          "Uzbekistan",
          "Italy",
          "Russia",
          "Belize",
          "Japan",
          "Lithuania",
          "Algeria",
          "Latvia",
          "South Korea",
          "Moldova",
          "Romania",
          "Bolivia",
          "Turkmenistan",
          "Kazakhstan",
          "North Cyprus",
          "Slovenia",
          "Peru",
          "Mauritius",
          "Cyprus",
          "Estonia",
          "Belarus",
          "Libya",
          "Turkey",
          "Paraguay",
          "Hong Kong S.A.R., China",
          "Philippines",
          "Serbia",
          "Jordan",
          "Hungary",
          "Jamaica",
          "Croatia",
          "Kosovo",
          "China",
          "Pakistan",
          "Indonesia",
          "Venezuela",
          "Montenegro",
          "Morocco",
          "Azerbaijan",
          "Dominican Republic",
          "Greece",
          "Lebanon",
          "Portugal",
          "Bosnia and Herzegovina",
          "Honduras",
          "Macedonia",
          "Somalia",
          "Vietnam",
          "Nigeria",
          "Tajikistan",
          "Bhutan",
          "Kyrgyzstan",
          "Nepal",
          "Mongolia",
          "South Africa",
          "Tunisia",
          "Palestinian Territories",
          "Egypt",
          "Bulgaria",
          "Sierra Leone",
          "Cameroon",
          "Iran",
          "Albania",
          "Bangladesh",
          "Namibia",
          "Kenya",
          "Mozambique",
          "Myanmar",
          "Senegal",
          "Zambia",
          "Iraq",
          "Gabon",
          "Ethiopia",
          "Sri Lanka",
          "Armenia",
          "India",
          "Mauritania",
          "Congo (Brazzaville)",
          "Georgia",
          "Congo (Kinshasa)",
          "Mali",
          "Ivory Coast",
          "Cambodia",
          "Sudan",
          "Ghana",
          "Ukraine",
          "Uganda",
          "Burkina Faso",
          "Niger",
          "Malawi",
          "Chad",
          "Zimbabwe",
          "Lesotho",
          "Angola",
          "Afghanistan",
          "Botswana",
          "Benin",
          "Madagascar",
          "Haiti",
          "Yemen",
          "South Sudan",
          "Liberia",
          "Guinea",
          "Togo",
          "Rwanda",
          "Syria",
          "Tanzania",
          "Burundi",
          "Central African Republic"
         ],
         "text": [
          "Norway",
          "Denmark",
          "Iceland",
          "Switzerland",
          "Finland",
          "Netherlands",
          "Canada",
          "New Zealand",
          "Sweden",
          "Australia",
          "Israel",
          "Costa Rica",
          "Austria",
          "United States",
          "Ireland",
          "Germany",
          "Belgium",
          "Luxembourg",
          "United Kingdom",
          "Chile",
          "United Arab Emirates",
          "Brazil",
          "Czech Republic",
          "Argentina",
          "Mexico",
          "Singapore",
          "Malta",
          "Uruguay",
          "Guatemala",
          "Panama",
          "France",
          "Thailand",
          "Taiwan Province of China",
          "Spain",
          "Qatar",
          "Colombia",
          "Saudi Arabia",
          "Trinidad and Tobago",
          "Kuwait",
          "Slovakia",
          "Bahrain",
          "Malaysia",
          "Nicaragua",
          "Ecuador",
          "El Salvador",
          "Poland",
          "Uzbekistan",
          "Italy",
          "Russia",
          "Belize",
          "Japan",
          "Lithuania",
          "Algeria",
          "Latvia",
          "South Korea",
          "Moldova",
          "Romania",
          "Bolivia",
          "Turkmenistan",
          "Kazakhstan",
          "North Cyprus",
          "Slovenia",
          "Peru",
          "Mauritius",
          "Cyprus",
          "Estonia",
          "Belarus",
          "Libya",
          "Turkey",
          "Paraguay",
          "Hong Kong S.A.R., China",
          "Philippines",
          "Serbia",
          "Jordan",
          "Hungary",
          "Jamaica",
          "Croatia",
          "Kosovo",
          "China",
          "Pakistan",
          "Indonesia",
          "Venezuela",
          "Montenegro",
          "Morocco",
          "Azerbaijan",
          "Dominican Republic",
          "Greece",
          "Lebanon",
          "Portugal",
          "Bosnia and Herzegovina",
          "Honduras",
          "Macedonia",
          "Somalia",
          "Vietnam",
          "Nigeria",
          "Tajikistan",
          "Bhutan",
          "Kyrgyzstan",
          "Nepal",
          "Mongolia",
          "South Africa",
          "Tunisia",
          "Palestinian Territories",
          "Egypt",
          "Bulgaria",
          "Sierra Leone",
          "Cameroon",
          "Iran",
          "Albania",
          "Bangladesh",
          "Namibia",
          "Kenya",
          "Mozambique",
          "Myanmar",
          "Senegal",
          "Zambia",
          "Iraq",
          "Gabon",
          "Ethiopia",
          "Sri Lanka",
          "Armenia",
          "India",
          "Mauritania",
          "Congo (Brazzaville)",
          "Georgia",
          "Congo (Kinshasa)",
          "Mali",
          "Ivory Coast",
          "Cambodia",
          "Sudan",
          "Ghana",
          "Ukraine",
          "Uganda",
          "Burkina Faso",
          "Niger",
          "Malawi",
          "Chad",
          "Zimbabwe",
          "Lesotho",
          "Angola",
          "Afghanistan",
          "Botswana",
          "Benin",
          "Madagascar",
          "Haiti",
          "Yemen",
          "South Sudan",
          "Liberia",
          "Guinea",
          "Togo",
          "Rwanda",
          "Syria",
          "Tanzania",
          "Burundi",
          "Central African Republic"
         ],
         "type": "choropleth",
         "uid": "a419b5c6-b2e6-4dc4-b422-ae9711ba06a4",
         "z": [
          0,
          0,
          0,
          0,
          0,
          0,
          0,
          0,
          0,
          0,
          0,
          0,
          0,
          0,
          0,
          0,
          0,
          0,
          0,
          0,
          0,
          0,
          0,
          0,
          0,
          0,
          0,
          0,
          0,
          0,
          0,
          0,
          0,
          0,
          0,
          0,
          0,
          0,
          0,
          0,
          0,
          0,
          0,
          0,
          0,
          0,
          0,
          0,
          0,
          0,
          0,
          0,
          0,
          0,
          0,
          0,
          0,
          0,
          0,
          0,
          0,
          0,
          0,
          0,
          0,
          0,
          0,
          0,
          0,
          0,
          0,
          0,
          0,
          1,
          0,
          1,
          1,
          1,
          1,
          1,
          1,
          1,
          1,
          1,
          1,
          1,
          1,
          1,
          1,
          1,
          1,
          1,
          1,
          1,
          1,
          1,
          1,
          1,
          1,
          1,
          1,
          1,
          1,
          1,
          1,
          1,
          1,
          1,
          1,
          1,
          1,
          1,
          1,
          1,
          1,
          1,
          1,
          1,
          1,
          1,
          1,
          1,
          1,
          1,
          1,
          1,
          1,
          1,
          1,
          1,
          1,
          1,
          1,
          1,
          1,
          1,
          1,
          1,
          1,
          1,
          1,
          1,
          1,
          1,
          1,
          1,
          1,
          1,
          1,
          1,
          1,
          1,
          1,
          1,
          1
         ]
        }
       ],
       "layout": {
        "geo": {
         "projection": {
          "type": "mercator"
         },
         "showframe": false
        },
        "title": {
         "text": "Pengkelompokkan negara berdasarkan GMM clustering"
        }
       }
      },
      "text/html": [
       "<div>\n",
       "        \n",
       "        \n",
       "            <div id=\"e09fdab4-f53d-4722-944e-d1e0d82399cb\" class=\"plotly-graph-div\" style=\"height:525px; width:100%;\"></div>\n",
       "            <script type=\"text/javascript\">\n",
       "                require([\"plotly\"], function(Plotly) {\n",
       "                    window.PLOTLYENV=window.PLOTLYENV || {};\n",
       "                    window.PLOTLYENV.BASE_URL='https://plot.ly';\n",
       "                    \n",
       "                if (document.getElementById(\"e09fdab4-f53d-4722-944e-d1e0d82399cb\")) {\n",
       "                    Plotly.newPlot(\n",
       "                        'e09fdab4-f53d-4722-944e-d1e0d82399cb',\n",
       "                        [{\"colorbar\": {\"title\": {\"text\": \"Cluster Group\"}}, \"colorscale\": \"Viridis\", \"locationmode\": \"country names\", \"locations\": [\"Norway\", \"Denmark\", \"Iceland\", \"Switzerland\", \"Finland\", \"Netherlands\", \"Canada\", \"New Zealand\", \"Sweden\", \"Australia\", \"Israel\", \"Costa Rica\", \"Austria\", \"United States\", \"Ireland\", \"Germany\", \"Belgium\", \"Luxembourg\", \"United Kingdom\", \"Chile\", \"United Arab Emirates\", \"Brazil\", \"Czech Republic\", \"Argentina\", \"Mexico\", \"Singapore\", \"Malta\", \"Uruguay\", \"Guatemala\", \"Panama\", \"France\", \"Thailand\", \"Taiwan Province of China\", \"Spain\", \"Qatar\", \"Colombia\", \"Saudi Arabia\", \"Trinidad and Tobago\", \"Kuwait\", \"Slovakia\", \"Bahrain\", \"Malaysia\", \"Nicaragua\", \"Ecuador\", \"El Salvador\", \"Poland\", \"Uzbekistan\", \"Italy\", \"Russia\", \"Belize\", \"Japan\", \"Lithuania\", \"Algeria\", \"Latvia\", \"South Korea\", \"Moldova\", \"Romania\", \"Bolivia\", \"Turkmenistan\", \"Kazakhstan\", \"North Cyprus\", \"Slovenia\", \"Peru\", \"Mauritius\", \"Cyprus\", \"Estonia\", \"Belarus\", \"Libya\", \"Turkey\", \"Paraguay\", \"Hong Kong S.A.R., China\", \"Philippines\", \"Serbia\", \"Jordan\", \"Hungary\", \"Jamaica\", \"Croatia\", \"Kosovo\", \"China\", \"Pakistan\", \"Indonesia\", \"Venezuela\", \"Montenegro\", \"Morocco\", \"Azerbaijan\", \"Dominican Republic\", \"Greece\", \"Lebanon\", \"Portugal\", \"Bosnia and Herzegovina\", \"Honduras\", \"Macedonia\", \"Somalia\", \"Vietnam\", \"Nigeria\", \"Tajikistan\", \"Bhutan\", \"Kyrgyzstan\", \"Nepal\", \"Mongolia\", \"South Africa\", \"Tunisia\", \"Palestinian Territories\", \"Egypt\", \"Bulgaria\", \"Sierra Leone\", \"Cameroon\", \"Iran\", \"Albania\", \"Bangladesh\", \"Namibia\", \"Kenya\", \"Mozambique\", \"Myanmar\", \"Senegal\", \"Zambia\", \"Iraq\", \"Gabon\", \"Ethiopia\", \"Sri Lanka\", \"Armenia\", \"India\", \"Mauritania\", \"Congo (Brazzaville)\", \"Georgia\", \"Congo (Kinshasa)\", \"Mali\", \"Ivory Coast\", \"Cambodia\", \"Sudan\", \"Ghana\", \"Ukraine\", \"Uganda\", \"Burkina Faso\", \"Niger\", \"Malawi\", \"Chad\", \"Zimbabwe\", \"Lesotho\", \"Angola\", \"Afghanistan\", \"Botswana\", \"Benin\", \"Madagascar\", \"Haiti\", \"Yemen\", \"South Sudan\", \"Liberia\", \"Guinea\", \"Togo\", \"Rwanda\", \"Syria\", \"Tanzania\", \"Burundi\", \"Central African Republic\"], \"text\": [\"Norway\", \"Denmark\", \"Iceland\", \"Switzerland\", \"Finland\", \"Netherlands\", \"Canada\", \"New Zealand\", \"Sweden\", \"Australia\", \"Israel\", \"Costa Rica\", \"Austria\", \"United States\", \"Ireland\", \"Germany\", \"Belgium\", \"Luxembourg\", \"United Kingdom\", \"Chile\", \"United Arab Emirates\", \"Brazil\", \"Czech Republic\", \"Argentina\", \"Mexico\", \"Singapore\", \"Malta\", \"Uruguay\", \"Guatemala\", \"Panama\", \"France\", \"Thailand\", \"Taiwan Province of China\", \"Spain\", \"Qatar\", \"Colombia\", \"Saudi Arabia\", \"Trinidad and Tobago\", \"Kuwait\", \"Slovakia\", \"Bahrain\", \"Malaysia\", \"Nicaragua\", \"Ecuador\", \"El Salvador\", \"Poland\", \"Uzbekistan\", \"Italy\", \"Russia\", \"Belize\", \"Japan\", \"Lithuania\", \"Algeria\", \"Latvia\", \"South Korea\", \"Moldova\", \"Romania\", \"Bolivia\", \"Turkmenistan\", \"Kazakhstan\", \"North Cyprus\", \"Slovenia\", \"Peru\", \"Mauritius\", \"Cyprus\", \"Estonia\", \"Belarus\", \"Libya\", \"Turkey\", \"Paraguay\", \"Hong Kong S.A.R., China\", \"Philippines\", \"Serbia\", \"Jordan\", \"Hungary\", \"Jamaica\", \"Croatia\", \"Kosovo\", \"China\", \"Pakistan\", \"Indonesia\", \"Venezuela\", \"Montenegro\", \"Morocco\", \"Azerbaijan\", \"Dominican Republic\", \"Greece\", \"Lebanon\", \"Portugal\", \"Bosnia and Herzegovina\", \"Honduras\", \"Macedonia\", \"Somalia\", \"Vietnam\", \"Nigeria\", \"Tajikistan\", \"Bhutan\", \"Kyrgyzstan\", \"Nepal\", \"Mongolia\", \"South Africa\", \"Tunisia\", \"Palestinian Territories\", \"Egypt\", \"Bulgaria\", \"Sierra Leone\", \"Cameroon\", \"Iran\", \"Albania\", \"Bangladesh\", \"Namibia\", \"Kenya\", \"Mozambique\", \"Myanmar\", \"Senegal\", \"Zambia\", \"Iraq\", \"Gabon\", \"Ethiopia\", \"Sri Lanka\", \"Armenia\", \"India\", \"Mauritania\", \"Congo (Brazzaville)\", \"Georgia\", \"Congo (Kinshasa)\", \"Mali\", \"Ivory Coast\", \"Cambodia\", \"Sudan\", \"Ghana\", \"Ukraine\", \"Uganda\", \"Burkina Faso\", \"Niger\", \"Malawi\", \"Chad\", \"Zimbabwe\", \"Lesotho\", \"Angola\", \"Afghanistan\", \"Botswana\", \"Benin\", \"Madagascar\", \"Haiti\", \"Yemen\", \"South Sudan\", \"Liberia\", \"Guinea\", \"Togo\", \"Rwanda\", \"Syria\", \"Tanzania\", \"Burundi\", \"Central African Republic\"], \"type\": \"choropleth\", \"uid\": \"a419b5c6-b2e6-4dc4-b422-ae9711ba06a4\", \"z\": [0, 0, 0, 0, 0, 0, 0, 0, 0, 0, 0, 0, 0, 0, 0, 0, 0, 0, 0, 0, 0, 0, 0, 0, 0, 0, 0, 0, 0, 0, 0, 0, 0, 0, 0, 0, 0, 0, 0, 0, 0, 0, 0, 0, 0, 0, 0, 0, 0, 0, 0, 0, 0, 0, 0, 0, 0, 0, 0, 0, 0, 0, 0, 0, 0, 0, 0, 0, 0, 0, 0, 0, 0, 1, 0, 1, 1, 1, 1, 1, 1, 1, 1, 1, 1, 1, 1, 1, 1, 1, 1, 1, 1, 1, 1, 1, 1, 1, 1, 1, 1, 1, 1, 1, 1, 1, 1, 1, 1, 1, 1, 1, 1, 1, 1, 1, 1, 1, 1, 1, 1, 1, 1, 1, 1, 1, 1, 1, 1, 1, 1, 1, 1, 1, 1, 1, 1, 1, 1, 1, 1, 1, 1, 1, 1, 1, 1, 1, 1, 1, 1, 1, 1, 1, 1]}],\n",
       "                        {\"geo\": {\"projection\": {\"type\": \"mercator\"}, \"showframe\": false}, \"title\": {\"text\": \"Pengkelompokkan negara berdasarkan GMM clustering\"}},\n",
       "                        {\"showLink\": false, \"linkText\": \"Export to plot.ly\", \"plotlyServerURL\": \"https://plot.ly\", \"responsive\": true}\n",
       "                    ).then(function(){\n",
       "                            \n",
       "var gd = document.getElementById('e09fdab4-f53d-4722-944e-d1e0d82399cb');\n",
       "var x = new MutationObserver(function (mutations, observer) {{\n",
       "        var display = window.getComputedStyle(gd).display;\n",
       "        if (!display || display === 'none') {{\n",
       "            console.log([gd, 'removed!']);\n",
       "            Plotly.purge(gd);\n",
       "            observer.disconnect();\n",
       "        }}\n",
       "}});\n",
       "\n",
       "// Listen for the removal of the full notebook cells\n",
       "var notebookContainer = gd.closest('#notebook-container');\n",
       "if (notebookContainer) {{\n",
       "    x.observe(notebookContainer, {childList: true});\n",
       "}}\n",
       "\n",
       "// Listen for the clearing of the current output cell\n",
       "var outputEl = gd.closest('.output');\n",
       "if (outputEl) {{\n",
       "    x.observe(outputEl, {childList: true});\n",
       "}}\n",
       "\n",
       "                        })\n",
       "                };\n",
       "                });\n",
       "            </script>\n",
       "        </div>"
      ]
     },
     "metadata": {},
     "output_type": "display_data"
    }
   ],
   "source": [
    "data = [dict(type='choropleth',\n",
    "             locations = wh['Country'],\n",
    "             locationmode = 'country names',\n",
    "             z = wh1['gmm'],\n",
    "             text = wh['Country'],\n",
    "             colorbar = {'title':'Cluster Group'},\n",
    "            colorscale = 'Viridis')]\n",
    "layout = dict(title='Pengkelompokkan negara berdasarkan GMM clustering',\n",
    "              geo=dict(showframe = False, projection = {'type':'mercator'}))\n",
    "map4 = dict(data=data, layout=layout)\n",
    "iplot(map4)"
   ]
  },
  {
   "cell_type": "markdown",
   "metadata": {
    "extensions": {
     "jupyter_dashboards": {
      "version": 1,
      "views": {
       "grid_default": {},
       "report_default": {
        "hidden": false
       }
      }
     }
    },
    "slideshow": {
     "slide_type": "slide"
    }
   },
   "source": [
    "## Kesimpulan & Saran\n",
    "\n",
    "<div class=\"alert alert-info\" role=\"alert\" style=\"margin-top: 10px\">\n",
    "<p><strong>Kesimpulan</strong><p>\n",
    "\n",
    "<p>1. Menghasilkan analisis data <i>World Happiness Report</i> menggunakan metode K-means, Affinity, Guassian Mixture Model (GMM)\n",
    " dan Agglomerative <br> 2. Berdasarkan hasil visual analisis heat map dari clustering negara menunjukkan bahwa metode k-means, Agglomerative dan GMM memberikan hasil yang sama terhadap kasus <i>World Happiness Report </i> <br> 3. GDP per capita berkorelasi dengan Tingkat Usia Harapan Hidup, Jika GDP per Kapita tinggi maka kemungkinan besar Harapan hidupnya juga tinggi <br> 4. Kebanyakan negara yang memiliki tingkat kebahagiaan yang tinggi berada di benua Amerika, Eropa, dan Australia dan kebanyakan negara yang memiliki tingkat kebahagiaan yang rendah berada di benua Asia dan Afrika</i> </p>\n",
    "</div>"
   ]
  },
  {
   "cell_type": "markdown",
   "metadata": {
    "extensions": {
     "jupyter_dashboards": {
      "version": 1,
      "views": {
       "grid_default": {},
       "report_default": {
        "hidden": false
       }
      }
     }
    },
    "slideshow": {
     "slide_type": "subslide"
    }
   },
   "source": [
    "\n",
    "<div class=\"alert alert-danger\" role=\"alert\" style=\"margin-top: 10px\">\n",
    "<p><strong>Saran</strong><p>\n",
    "\n",
    "<p>1. Analisa dan visualisasi data bisa dikembangkan dengan menerapkan metrik seperti <i>Normalized Mutual Information</i> dan <i>Adjusted Rand Score</i></p>\n",
    "</div>"
   ]
  }
 ],
 "metadata": {
  "extensions": {
   "jupyter_dashboards": {
    "activeView": "report_default",
    "version": 1,
    "views": {
     "grid_default": {
      "name": "grid",
      "type": "grid"
     },
     "report_default": {
      "name": "report",
      "type": "report"
     }
    }
   }
  },
  "kernelspec": {
   "display_name": "Python 3",
   "language": "python",
   "name": "python3"
  },
  "language_info": {
   "codemirror_mode": {
    "name": "ipython",
    "version": 3
   },
   "file_extension": ".py",
   "mimetype": "text/x-python",
   "name": "python",
   "nbconvert_exporter": "python",
   "pygments_lexer": "ipython3",
   "version": "3.7.3"
  }
 },
 "nbformat": 4,
 "nbformat_minor": 2
}
